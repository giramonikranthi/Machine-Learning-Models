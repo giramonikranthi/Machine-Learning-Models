{
 "cells": [
  {
   "cell_type": "code",
   "execution_count": 1,
   "metadata": {},
   "outputs": [
    {
     "data": {
      "image/png": "[encoded data removed]",
      "text/plain": [
       "<matplotlib.figure.Figure at 0xa7d0ac8>"
      ]
     },
     "metadata": {},
     "output_type": "display_data"
    }
   ],
   "source": [
    "import csv\n",
    "import sklearn as sk\n",
    "import pandas as pd\n",
    "from sklearn.linear_model import LogisticRegression\n",
    "import matplotlib.pyplot as pt\n",
    "import numpy as np\n",
    "import scipy\n",
    "data = np.loadtxt(r'C:\\Users\\saminens\\Desktop\\ML\\ex2data2.txt', delimiter=\",\")\n",
    "x=data[:,0:2]\n",
    "y=data[:,2:3]\n",
    "pos=np.where(y==0)[0]\n",
    "neg=np.where(y==1)[0]\n",
    "pt.scatter(x[pos,0],x[pos,1],marker='^')\n",
    "pt.scatter(x[neg,0],x[neg,1],marker='o')\n",
    "pt.legend(['Not Admitted','Admitted'],fancybox=True)\n",
    "pt.show()\n"
   ]
  },
  {
   "cell_type": "code",
   "execution_count": 2,
   "metadata": {},
   "outputs": [
    {
     "data": {
      "text/plain": [
       "(118, 28)"
      ]
     },
     "execution_count": 2,
     "metadata": {},
     "output_type": "execute_result"
    }
   ],
   "source": [
    "pf=sk.preprocessing.PolynomialFeatures(6)\n",
    "x_f=pf.fit_transform(x)\n",
    "#noting dimensions is imp.\n",
    "x_f.shape"
   ]
  },
  {
   "cell_type": "code",
   "execution_count": 3,
   "metadata": {
    "collapsed": true
   },
   "outputs": [],
   "source": [
    "def sigmoid(z):\n",
    "    g=1/(1 + np.exp(-z))\n",
    "    return g"
   ]
  },
  {
   "cell_type": "code",
   "execution_count": 4,
   "metadata": {
    "collapsed": true
   },
   "outputs": [],
   "source": [
    "def h(theta,X):\n",
    "   \n",
    "    return sigmoid(X.dot(theta))"
   ]
  },
  {
   "cell_type": "code",
   "execution_count": 5,
   "metadata": {
    "collapsed": true
   },
   "outputs": [],
   "source": [
    "# here alpha is the regularisation parameter.\n",
    "def costfunctionreg(theta,alpha,X,y):\n",
    "    m,n=X.shape\n",
    "    h1=h(theta,X)\n",
    "    theta[0]=0\n",
    "    reg= (alpha/2)*np.square(theta)\n",
    "    rcost= y.T.dot(np.log(h1))+(1-y).T.dot(np.log(1-h1))\n",
    "    J= -(rcost)/m + sum(reg[1:])/m\n",
    "    return(J)"
   ]
  },
  {
   "cell_type": "code",
   "execution_count": 6,
   "metadata": {},
   "outputs": [
    {
     "data": {
      "text/plain": [
       "(118, 1)"
      ]
     },
     "execution_count": 6,
     "metadata": {},
     "output_type": "execute_result"
    }
   ],
   "source": [
    "y.shape\n"
   ]
  },
  {
   "cell_type": "code",
   "execution_count": 7,
   "metadata": {},
   "outputs": [],
   "source": [
    "def gradientreg(theta,alpha,X,y):\n",
    "    m,n=X.shape\n",
    "    h2=h(theta.reshape(-1,1),X)\n",
    "    reg1= (alpha*(theta.reshape(-1,1)))/m\n",
    "    grad=((h2-y).T.dot(X)/m).T + reg1\n",
    "      #we need a column matrix  \n",
    "    return np.ndarray.flatten(grad)"
   ]
  },
  {
   "cell_type": "code",
   "execution_count": 8,
   "metadata": {},
   "outputs": [
    {
     "data": {
      "text/plain": [
       "array([ 0.69314718])"
      ]
     },
     "execution_count": 8,
     "metadata": {},
     "output_type": "execute_result"
    }
   ],
   "source": [
    "itheta=np.zeros(x_f.shape[1])\n",
    "cost=costfunctionreg(itheta,1,x_f,y)\n",
    "grad=gradientreg(itheta,1,x_f,y)\n",
    "cost\n"
   ]
  },
  {
   "cell_type": "code",
   "execution_count": 9,
   "metadata": {},
   "outputs": [
    {
     "data": {
      "text/plain": [
       "      fun: 0.5300109345445478\n",
       " hess_inv: array([[  7.00337192e+00,   8.80651203e-01,   3.31034024e+00,\n",
       "         -6.07369168e+00,  -3.29490189e+00,  -3.61780892e+00,\n",
       "         -2.83629420e-01,  -1.27801104e+00,  -1.38930681e+00,\n",
       "         -1.13386976e+00,  -4.93560446e+00,  -5.45527264e-01,\n",
       "         -1.86205990e+00,  -1.07235149e+00,  -4.13033248e+00,\n",
       "         -1.33100737e+00,  -7.91148143e-01,  -3.34969636e-01,\n",
       "         -9.09590231e-01,  -1.03472140e+00,  -2.43668340e+00,\n",
       "         -3.78702492e+00,  -1.63841747e-01,  -9.35852966e-01,\n",
       "         -1.12669396e-01,  -1.04379243e+00,  -5.69574187e-01,\n",
       "         -3.90396896e+00],\n",
       "       [  8.80651203e-01,   9.32689654e+00,   6.20965192e+00,\n",
       "         -5.40357712e+00,  -3.54723073e+00,  -3.48185482e+00,\n",
       "          4.08077265e+00,  -1.43844360e+00,  -8.28227967e-01,\n",
       "          1.62204654e+00,  -3.48183154e+00,  -2.08589595e-01,\n",
       "         -1.90665524e+00,  -1.14048285e+00,  -2.23129230e+00,\n",
       "          1.65951685e+00,  -8.48028671e-01,   1.66389779e-01,\n",
       "         -8.94038913e-01,  -1.09285965e+00,   6.97327542e-01,\n",
       "         -2.16132945e+00,   1.25542516e-01,  -8.85907267e-01,\n",
       "          3.88022817e-02,  -9.65367696e-01,  -6.63373469e-01,\n",
       "         -1.09116536e+00],\n",
       "       [  3.31034024e+00,   6.20965192e+00,   7.86369393e+00,\n",
       "         -7.39876226e+00,  -5.55422150e-01,  -2.28721960e+00,\n",
       "          1.28914105e+00,  -4.94605043e-01,   1.42388727e-01,\n",
       "         -9.68140779e-02,  -5.75595627e+00,   1.51961590e-01,\n",
       "         -1.59278006e+00,   1.27905875e-01,  -3.79338363e+00,\n",
       "         -8.43634196e-01,  -5.38555442e-01,   2.69320938e-02,\n",
       "         -5.95013391e-01,  -2.06210316e-01,  -2.57754680e+00,\n",
       "         -4.41814406e+00,   8.14844649e-02,  -8.51094194e-01,\n",
       "          1.37615381e-01,  -8.95153439e-01,   9.30084518e-02,\n",
       "         -4.35900806e+00],\n",
       "       [ -6.07369168e+00,  -5.40357712e+00,  -7.39876226e+00,\n",
       "          1.24302891e+01,   3.87968709e+00,   5.90195548e+00,\n",
       "         -8.25951964e-01,   1.79746472e+00,   1.37246594e+00,\n",
       "          1.42590504e+00,   8.88522131e+00,   4.80629045e-01,\n",
       "          3.07516657e+00,   1.06755051e+00,   6.96060408e+00,\n",
       "          1.72289582e+00,   1.22883050e+00,   3.17134535e-01,\n",
       "          1.39004825e+00,   1.24081705e+00,   4.21062183e+00,\n",
       "          6.73422344e+00,   1.15352025e-01,   1.55542275e+00,\n",
       "          3.14649364e-02,   1.70630615e+00,   5.51161227e-01,\n",
       "          6.88893539e+00],\n",
       "       [ -3.29490189e+00,  -3.54723073e+00,  -5.55422150e-01,\n",
       "          3.87968709e+00,   1.73284485e+01,   1.12129644e+01,\n",
       "         -6.39693196e+00,   5.58617362e+00,   6.36371652e+00,\n",
       "         -2.01202132e+00,   1.28622612e+00,   2.48944216e+00,\n",
       "          4.37116041e+00,   6.39873108e+00,   3.01241132e+00,\n",
       "         -4.62143777e+00,   2.45969276e+00,   4.47186321e-01,\n",
       "          2.69151432e+00,   4.96597585e+00,  -5.32587207e+00,\n",
       "         -5.46443141e-01,   3.29699891e-01,   1.78531071e+00,\n",
       "          6.63448304e-01,   2.12904202e+00,   3.65480085e+00,\n",
       "         -3.05669369e+00],\n",
       "       [ -3.61780892e+00,  -3.48185482e+00,  -2.28721960e+00,\n",
       "          5.90195548e+00,   1.12129644e+01,   9.81215730e+00,\n",
       "         -4.00463867e+00,   3.99666500e+00,   4.36192097e+00,\n",
       "         -6.25601373e-01,   3.52530748e+00,   1.69542037e+00,\n",
       "          3.62852481e+00,   4.26045065e+00,   4.07714089e+00,\n",
       "         -2.21127405e+00,   1.88899415e+00,   3.94190707e-01,\n",
       "          2.08446363e+00,   3.43053489e+00,  -1.85308118e+00,\n",
       "          1.74581805e+00,   2.51905726e-01,   1.57219831e+00,\n",
       "          4.26293238e-01,   1.83249260e+00,   2.41285213e+00,\n",
       "          3.24875703e-01],\n",
       "       [ -2.83629420e-01,   4.08077265e+00,   1.28914105e+00,\n",
       "         -8.25951964e-01,  -6.39693196e+00,  -4.00463867e+00,\n",
       "          5.16162845e+00,  -2.17147183e+00,  -2.23829272e+00,\n",
       "          1.98841741e+00,   3.49443858e-01,  -8.29645107e-01,\n",
       "         -1.61842506e+00,  -2.50866966e+00,  -1.60587048e-01,\n",
       "          3.01140851e+00,  -9.39680082e-01,   2.96616752e-02,\n",
       "         -9.96751033e-01,  -1.93534213e+00,   3.48106914e+00,\n",
       "          1.05042999e+00,  -1.17714639e-02,  -6.28298474e-01,\n",
       "         -1.99353435e-01,  -7.45095331e-01,  -1.45688935e+00,\n",
       "          2.53868792e+00],\n",
       "       [ -1.27801104e+00,  -1.43844360e+00,  -4.94605043e-01,\n",
       "          1.79746472e+00,   5.58617362e+00,   3.99666500e+00,\n",
       "         -2.17147183e+00,   2.93584415e+00,   2.16936515e+00,\n",
       "         -6.00297079e-01,   8.15603410e-01,   8.46722857e-01,\n",
       "          1.58722125e+00,   2.16915220e+00,   1.30917205e+00,\n",
       "         -1.46660408e+00,   8.71408038e-01,   1.61178212e-01,\n",
       "          9.55121512e-01,   1.70146427e+00,  -1.58251690e+00,\n",
       "          1.10648327e-01,   1.14257870e-01,   6.60930221e-01,\n",
       "          2.21425975e-01,   7.81786292e-01,   1.23639599e+00,\n",
       "         -7.12728539e-01],\n",
       "       [ -1.38930681e+00,  -8.28227967e-01,   1.42388727e-01,\n",
       "          1.37246594e+00,   6.36371652e+00,   4.36192097e+00,\n",
       "         -2.23829272e+00,   2.16936515e+00,   3.52590554e+00,\n",
       "         -6.31481874e-01,   4.32238166e-01,   9.96519715e-01,\n",
       "          1.67036115e+00,   2.50455310e+00,   1.19120885e+00,\n",
       "         -1.67331217e+00,   9.47022204e-01,   2.02773567e-01,\n",
       "          1.04054353e+00,   1.93585512e+00,  -1.98029352e+00,\n",
       "         -2.43685978e-01,   1.46623113e-01,   6.80143044e-01,\n",
       "          2.71465656e-01,   8.15460238e-01,   1.42803805e+00,\n",
       "         -1.15701588e+00],\n",
       "       [ -1.13386976e+00,   1.62204654e+00,  -9.68140779e-02,\n",
       "          1.42590504e+00,  -2.01202132e+00,  -6.25601373e-01,\n",
       "          1.98841741e+00,  -6.00297079e-01,  -6.31481874e-01,\n",
       "          2.35418711e+00,   1.56953862e+00,  -2.18819361e-01,\n",
       "         -1.96479025e-01,  -8.49909329e-01,   1.18189230e+00,\n",
       "          1.74897530e+00,  -1.95152405e-01,   1.12264025e-01,\n",
       "         -1.87547641e-01,  -5.97923976e-01,   2.35493389e+00,\n",
       "          1.54792669e+00,   4.65591284e-02,  -1.92741762e-02,\n",
       "         -5.56855986e-02,  -3.93323710e-02,  -5.10047321e-01,\n",
       "          2.31921072e+00],\n",
       "       [ -4.93560446e+00,  -3.48183154e+00,  -5.75595627e+00,\n",
       "          8.88522131e+00,   1.28622612e+00,   3.52530748e+00,\n",
       "          3.49443858e-01,   8.15603410e-01,   4.32238166e-01,\n",
       "          1.56953862e+00,   8.16816644e+00,   1.31705564e-01,\n",
       "          1.99860382e+00,   1.38381121e-01,   5.43770677e+00,\n",
       "          2.12549957e+00,   7.15438123e-01,   2.40949449e-01,\n",
       "          8.24872719e-01,   4.41649107e-01,   4.23371288e+00,\n",
       "          5.64124418e+00,   7.61482357e-02,   1.06423918e+00,\n",
       "         -3.91649731e-02,   1.14968194e+00,   2.77248159e-02,\n",
       "          6.13041970e+00],\n",
       "       [ -5.45527264e-01,  -2.08589595e-01,   1.51961590e-01,\n",
       "          4.80629045e-01,   2.48944216e+00,   1.69542037e+00,\n",
       "         -8.29645107e-01,   8.46722857e-01,   9.96519715e-01,\n",
       "         -2.18819361e-01,   1.31705564e-01,   1.39644630e+00,\n",
       "          6.40722059e-01,   9.83178037e-01,   4.53416583e-01,\n",
       "         -6.38411226e-01,   3.67028789e-01,   8.43925200e-02,\n",
       "          4.03476223e-01,   7.56641052e-01,  -7.67551487e-01,\n",
       "         -1.20369851e-01,   6.16221941e-02,   2.59636124e-01,\n",
       "          1.09579502e-01,   3.12646412e-01,   5.60167457e-01,\n",
       "         -4.64291299e-01],\n",
       "       [ -1.86205990e+00,  -1.90665524e+00,  -1.59278006e+00,\n",
       "          3.07516657e+00,   4.37116041e+00,   3.62852481e+00,\n",
       "         -1.61842506e+00,   1.58722125e+00,   1.67036115e+00,\n",
       "         -1.96479025e-01,   1.99860382e+00,   6.40722059e-01,\n",
       "          2.56625407e+00,   1.62457004e+00,   2.00139132e+00,\n",
       "         -7.16644443e-01,   7.83727879e-01,   1.55718245e-01,\n",
       "          8.65869236e-01,   1.34130129e+00,  -3.92039705e-01,\n",
       "          1.17291162e+00,   9.22490854e-02,   6.97275478e-01,\n",
       "          1.51277205e-01,   8.02423220e-01,   9.17099924e-01,\n",
       "          6.34656160e-01],\n",
       "       [ -1.07235149e+00,  -1.14048285e+00,   1.27905875e-01,\n",
       "          1.06755051e+00,   6.39873108e+00,   4.26045065e+00,\n",
       "         -2.50866966e+00,   2.16915220e+00,   2.50455310e+00,\n",
       "         -8.49909329e-01,   1.38381121e-01,   9.83178037e-01,\n",
       "          1.62457004e+00,   3.52759687e+00,   9.22650285e-01,\n",
       "         -1.91540875e+00,   9.35937902e-01,   1.69544137e-01,\n",
       "          1.02267291e+00,   1.94351990e+00,  -2.30461607e+00,\n",
       "         -5.04274990e-01,   1.29712977e-01,   6.50743201e-01,\n",
       "          2.66724509e-01,   7.82737199e-01,   1.44585462e+00,\n",
       "         -1.51156921e+00],\n",
       "       [ -4.13033248e+00,  -2.23129230e+00,  -3.79338363e+00,\n",
       "          6.96060408e+00,   3.01241132e+00,   4.07714089e+00,\n",
       "         -1.60587048e-01,   1.30917205e+00,   1.19120885e+00,\n",
       "          1.18189230e+00,   5.43770677e+00,   4.53416583e-01,\n",
       "          2.00139132e+00,   9.22650285e-01,   5.50186544e+00,\n",
       "          1.20335534e+00,   8.31081229e-01,   2.80518409e-01,\n",
       "          9.46614529e-01,   9.54152565e-01,   2.66799043e+00,\n",
       "          4.11611951e+00,   1.27670636e-01,   9.99578888e-01,\n",
       "          7.45534263e-02,   1.10944250e+00,   4.84349864e-01,\n",
       "          4.27932128e+00],\n",
       "       [ -1.33100737e+00,   1.65951685e+00,  -8.43634196e-01,\n",
       "          1.72289582e+00,  -4.62143777e+00,  -2.21127405e+00,\n",
       "          3.01140851e+00,  -1.46660408e+00,  -1.67331217e+00,\n",
       "          1.74897530e+00,   2.12549957e+00,  -6.38411226e-01,\n",
       "         -7.16644443e-01,  -1.91540875e+00,   1.20335534e+00,\n",
       "          3.70766140e+00,  -5.35444122e-01,   5.01810758e-02,\n",
       "         -5.55865177e-01,  -1.38553249e+00,   3.62793395e+00,\n",
       "          2.24484883e+00,  -1.11219431e-02,  -2.03554828e-01,\n",
       "         -1.78526059e-01,  -2.74146620e-01,  -1.12241398e+00,\n",
       "          3.44028037e+00],\n",
       "       [ -7.91148143e-01,  -8.48028671e-01,  -5.38555442e-01,\n",
       "          1.22883050e+00,   2.45969276e+00,   1.88899415e+00,\n",
       "         -9.39680082e-01,   8.71408038e-01,   9.47022204e-01,\n",
       "         -1.95152405e-01,   7.15438123e-01,   3.67028789e-01,\n",
       "          7.83727879e-01,   9.35937902e-01,   8.31081229e-01,\n",
       "         -5.35444122e-01,   1.41057726e+00,   7.82460675e-02,\n",
       "          4.51573200e-01,   7.51566504e-01,  -4.76565207e-01,\n",
       "          3.33032022e-01,   5.09961635e-02,   3.38188935e-01,\n",
       "          9.16884782e-02,   3.94118065e-01,   5.31170134e-01,\n",
       "         -2.38017557e-03],\n",
       "       [ -3.34969636e-01,   1.66389779e-01,   2.69320938e-02,\n",
       "          3.17134535e-01,   4.47186321e-01,   3.94190707e-01,\n",
       "          2.96616752e-02,   1.61178212e-01,   2.02773567e-01,\n",
       "          1.12264025e-01,   2.40949449e-01,   8.43925200e-02,\n",
       "          1.55718245e-01,   1.69544137e-01,   2.80518409e-01,\n",
       "          5.01810758e-02,   7.82460675e-02,   1.03919797e+00,\n",
       "          8.98266547e-02,   1.37867058e-01,   8.75401695e-02,\n",
       "          1.67762705e-01,   2.36070927e-02,   7.10918023e-02,\n",
       "          2.39488647e-02,   8.34995327e-02,   9.32536592e-02,\n",
       "          1.69039167e-01],\n",
       "       [ -9.09590231e-01,  -8.94038913e-01,  -5.95013391e-01,\n",
       "          1.39004825e+00,   2.69151432e+00,   2.08446363e+00,\n",
       "         -9.96751033e-01,   9.55121512e-01,   1.04054353e+00,\n",
       "         -1.87547641e-01,   8.24872719e-01,   4.03476223e-01,\n",
       "          8.65869236e-01,   1.02267291e+00,   9.46614529e-01,\n",
       "         -5.55865177e-01,   4.51573200e-01,   8.98266547e-02,\n",
       "          1.49748750e+00,   8.22940239e-01,  -4.80905216e-01,\n",
       "          4.00646458e-01,   5.77301761e-02,   3.74951757e-01,\n",
       "          1.00841187e-01,   4.36686196e-01,   5.79814745e-01,\n",
       "          4.40542316e-02],\n",
       "       [ -1.03472140e+00,  -1.09285965e+00,  -2.06210316e-01,\n",
       "          1.24081705e+00,   4.96597585e+00,   3.43053489e+00,\n",
       "         -1.93534213e+00,   1.70146427e+00,   1.93585512e+00,\n",
       "         -5.97923976e-01,   4.41649107e-01,   7.56641052e-01,\n",
       "          1.34130129e+00,   1.94351990e+00,   9.54152565e-01,\n",
       "         -1.38553249e+00,   7.51566504e-01,   1.37867058e-01,\n",
       "          8.22940239e-01,   2.51086687e+00,  -1.58564740e+00,\n",
       "         -1.25406094e-01,   1.00619918e-01,   5.49578336e-01,\n",
       "          2.01128447e-01,   6.54575327e-01,   1.10970480e+00,\n",
       "         -8.83653241e-01],\n",
       "       [ -2.43668340e+00,   6.97327542e-01,  -2.57754680e+00,\n",
       "          4.21062183e+00,  -5.32587207e+00,  -1.85308118e+00,\n",
       "          3.48106914e+00,  -1.58251690e+00,  -1.98029352e+00,\n",
       "          2.35493389e+00,   4.23371288e+00,  -7.67551487e-01,\n",
       "         -3.92039705e-01,  -2.30461607e+00,   2.66799043e+00,\n",
       "          3.62793395e+00,  -4.76565207e-01,   8.75401695e-02,\n",
       "         -4.80905216e-01,  -1.58564740e+00,   6.26741744e+00,\n",
       "          3.99974288e+00,  -1.16581164e-02,   4.03717484e-03,\n",
       "         -2.36105597e-01,  -6.33530227e-02,  -1.36016374e+00,\n",
       "          5.51256007e+00],\n",
       "       [ -3.78702492e+00,  -2.16132945e+00,  -4.41814406e+00,\n",
       "          6.73422344e+00,  -5.46443141e-01,   1.74581805e+00,\n",
       "          1.05042999e+00,   1.10648327e-01,  -2.43685978e-01,\n",
       "          1.54792669e+00,   5.64124418e+00,  -1.20369851e-01,\n",
       "          1.17291162e+00,  -5.04274990e-01,   4.11611951e+00,\n",
       "          2.24484883e+00,   3.33032022e-01,   1.67762705e-01,\n",
       "          4.00646458e-01,  -1.25406094e-01,   3.99974288e+00,\n",
       "          5.60594401e+00,   4.00572943e-02,   6.78995549e-01,\n",
       "         -8.88874919e-02,   7.15310449e-01,  -3.30997270e-01,\n",
       "          5.28123992e+00],\n",
       "       [ -1.63841747e-01,   1.25542516e-01,   8.14844649e-02,\n",
       "          1.15352025e-01,   3.29699891e-01,   2.51905726e-01,\n",
       "         -1.17714639e-02,   1.14257870e-01,   1.46623113e-01,\n",
       "          4.65591284e-02,   7.61482357e-02,   6.16221941e-02,\n",
       "          9.22490854e-02,   1.29712977e-01,   1.27670636e-01,\n",
       "         -1.11219431e-02,   5.09961635e-02,   2.36070927e-02,\n",
       "          5.77301761e-02,   1.00619918e-01,  -1.16581164e-02,\n",
       "          4.00572943e-02,   1.01556689e+00,   3.95980241e-02,\n",
       "          1.82462354e-02,   4.77691430e-02,   7.23711253e-02,\n",
       "          2.67867646e-02],\n",
       "       [ -9.35852966e-01,  -8.85907267e-01,  -8.51094194e-01,\n",
       "          1.55542275e+00,   1.78531071e+00,   1.57219831e+00,\n",
       "         -6.28298474e-01,   6.60930221e-01,   6.80143044e-01,\n",
       "         -1.92741762e-02,   1.06423918e+00,   2.59636124e-01,\n",
       "          6.97275478e-01,   6.50743201e-01,   9.99578888e-01,\n",
       "         -2.03554828e-01,   3.38188935e-01,   7.10918023e-02,\n",
       "          3.74951757e-01,   5.49578336e-01,   4.03717484e-03,\n",
       "          6.78995549e-01,   3.95980241e-02,   1.31706280e+00,\n",
       "          5.86692862e-02,   3.62033555e-01,   3.65453896e-01,\n",
       "          4.83420749e-01],\n",
       "       [ -1.12669396e-01,   3.88022817e-02,   1.37615381e-01,\n",
       "          3.14649364e-02,   6.63448304e-01,   4.26293238e-01,\n",
       "         -1.99353435e-01,   2.21425975e-01,   2.71465656e-01,\n",
       "         -5.56855986e-02,  -3.91649731e-02,   1.09579502e-01,\n",
       "          1.51277205e-01,   2.66724509e-01,   7.45534263e-02,\n",
       "         -1.78526059e-01,   9.16884782e-02,   2.39488647e-02,\n",
       "          1.00841187e-01,   2.01128447e-01,  -2.36105597e-01,\n",
       "         -8.88874919e-02,   1.82462354e-02,   5.86692862e-02,\n",
       "          1.03167723e+00,   7.24144714e-02,   1.52140154e-01,\n",
       "         -1.78751349e-01],\n",
       "       [ -1.04379243e+00,  -9.65367696e-01,  -8.95153439e-01,\n",
       "          1.70630615e+00,   2.12904202e+00,   1.83249260e+00,\n",
       "         -7.45095331e-01,   7.81786292e-01,   8.15460238e-01,\n",
       "         -3.93323710e-02,   1.14968194e+00,   3.12646412e-01,\n",
       "          8.02423220e-01,   7.82737199e-01,   1.10944250e+00,\n",
       "         -2.74146620e-01,   3.94118065e-01,   8.34995327e-02,\n",
       "          4.36686196e-01,   6.54575327e-01,  -6.33530227e-02,\n",
       "          7.15310449e-01,   4.77691430e-02,   3.62033555e-01,\n",
       "          7.24144714e-02,   1.41482836e+00,   4.40284692e-01,\n",
       "          4.75975802e-01],\n",
       "       [ -5.69574187e-01,  -6.63373469e-01,   9.30084518e-02,\n",
       "          5.51161227e-01,   3.65480085e+00,   2.41285213e+00,\n",
       "         -1.45688935e+00,   1.23639599e+00,   1.42803805e+00,\n",
       "         -5.10047321e-01,   2.77248159e-02,   5.60167457e-01,\n",
       "          9.17099924e-01,   1.44585462e+00,   4.84349864e-01,\n",
       "         -1.12241398e+00,   5.31170134e-01,   9.32536592e-02,\n",
       "          5.79814745e-01,   1.10970480e+00,  -1.36016374e+00,\n",
       "         -3.30997270e-01,   7.23711253e-02,   3.65453896e-01,\n",
       "          1.52140154e-01,   4.40284692e-01,   1.82764919e+00,\n",
       "         -9.16546550e-01],\n",
       "       [ -3.90396896e+00,  -1.09116536e+00,  -4.35900806e+00,\n",
       "          6.88893539e+00,  -3.05669369e+00,   3.24875703e-01,\n",
       "          2.53868792e+00,  -7.12728539e-01,  -1.15701588e+00,\n",
       "          2.31921072e+00,   6.13041970e+00,  -4.64291299e-01,\n",
       "          6.34656160e-01,  -1.51156921e+00,   4.27932128e+00,\n",
       "          3.44028037e+00,  -2.38017557e-03,   1.69039167e-01,\n",
       "          4.40542316e-02,  -8.83653241e-01,   5.51256007e+00,\n",
       "          5.28123992e+00,   2.67867646e-02,   4.83420749e-01,\n",
       "         -1.78751349e-01,   4.75975802e-01,  -9.16546550e-01,\n",
       "          7.53639155e+00]])\n",
       "      jac: array([  1.05428055e-03,   1.56890070e-03,  -3.01633241e-03,\n",
       "         4.44571937e-04,  -9.07326241e-04,   5.48645864e-04,\n",
       "         4.42513126e-04,  -5.86951318e-04,   3.96000029e-05,\n",
       "        -1.90024893e-03,   9.19581825e-05,  -8.92159651e-04,\n",
       "         3.39612861e-04,  -4.50547743e-04,  -7.39680141e-04,\n",
       "         1.15155633e-04,  -4.07764686e-04,  -1.49946146e-04,\n",
       "        -1.21293141e-04,   9.05533160e-07,  -2.02141905e-03,\n",
       "        -1.39860642e-04,  -5.70561623e-04,   1.28280910e-04,\n",
       "        -3.67399356e-04,   1.11768935e-04,  -2.39700316e-04,\n",
       "        -1.59844908e-03])\n",
       "  message: 'Desired error not necessarily achieved due to precision loss.'\n",
       "     nfev: 110\n",
       "      nit: 19\n",
       "     njev: 98\n",
       "   status: 2\n",
       "  success: False\n",
       "        x: array([ 1.13905468,  0.63561419,  1.14968144, -1.8671565 , -0.93002944,\n",
       "       -1.17283912,  0.12525871, -0.37879674, -0.37243299, -0.19872063,\n",
       "       -1.43486075, -0.11446387, -0.57707841, -0.29370381, -1.16788635,\n",
       "       -0.25414287, -0.23001402, -0.06942998, -0.27019065, -0.30109071,\n",
       "       -0.55955345, -1.06378139, -0.01754239, -0.28333104, -0.01385566,\n",
       "       -0.31456354, -0.15796289, -1.02391622])"
      ]
     },
     "execution_count": 9,
     "metadata": {},
     "output_type": "execute_result"
    }
   ],
   "source": [
    "optim=scipy.optimize.minimize(costfunctionreg,itheta,jac=gradientreg,method=None,args=(1,x_f,y),options={'maxiter':3000})\n",
    "optim\n"
   ]
  },
  {
   "cell_type": "code",
   "execution_count": 10,
   "metadata": {},
   "outputs": [
    {
     "data": {
      "image/png": "[encoded data removed]",
      "text/plain": [
       "<matplotlib.figure.Figure at 0xc3c0f28>"
      ]
     },
     "metadata": {},
     "output_type": "display_data"
    }
   ],
   "source": [
    "\n",
    "minx1,maxx1=x[:,0].min(),x[:,0].max()\n",
    "minx2,maxx2=x[:,1].min(),x[:,1].max()\n",
    "plot_x,plot_y=np.meshgrid(np.linspace(minx1,maxx1),np.linspace(minx2,maxx2))\n",
    "q= sigmoid(pf.fit_transform(np.c_[plot_x.ravel(),plot_y.ravel()]).dot(optim.x))\n",
    "q=q.reshape(plot_x.shape)\n",
    "pt.contour(plot_x,plot_y, q, [0.5], linewidths=1, colors='g')\n",
    "x=data[:,0:2]\n",
    "y=data[:,2:3]\n",
    "pos=np.where(y==0)[0]\n",
    "neg=np.where(y==1)[0]\n",
    "pt.scatter(x[pos,0],x[pos,1],marker='^')\n",
    "pt.scatter(x[neg,0],x[neg,1],marker='o')\n",
    "pt.legend(['Not Admitted','Admitted'],fancybox=True)\n",
    "pt.show()"
   ]
  },
  {
   "cell_type": "code",
   "execution_count": 11,
   "metadata": {},
   "outputs": [],
   "source": [
    "def predict(theta,X,t=0.5):\n",
    "    p=sigmoid(X.dot(theta.T)) >= t\n",
    "    return p"
   ]
  },
  {
   "cell_type": "code",
   "execution_count": 12,
   "metadata": {},
   "outputs": [
    {
     "data": {
      "text/plain": [
       "82.20338983050847"
      ]
     },
     "execution_count": 12,
     "metadata": {},
     "output_type": "execute_result"
    }
   ],
   "source": [
    "accuracy=100*sum(predict(optim.x,x_f)== y.ravel())/y.size\n",
    "accuracy"
   ]
  },
  {
   "cell_type": "code",
   "execution_count": null,
   "metadata": {
    "collapsed": true
   },
   "outputs": [],
   "source": []
  }
 ],
 "metadata": {
  "kernelspec": {
   "display_name": "Python 3",
   "language": "python",
   "name": "python3"
  },
  "language_info": {
   "codemirror_mode": {
    "name": "ipython",
    "version": 3
   },
   "file_extension": ".py",
   "mimetype": "text/x-python",
   "name": "python",
   "nbconvert_exporter": "python",
   "pygments_lexer": "ipython3",
   "version": "3.6.3"
  }
 },
 "nbformat": 4,
 "nbformat_minor": 2
}
