{
 "cells": [
  {
   "cell_type": "code",
   "execution_count": 1,
   "metadata": {
    "collapsed": true
   },
   "outputs": [],
   "source": [
    "import numpy as np\n",
    "import matplotlib.pyplot as pt\n",
    "%matplotlib inline\n",
    "from scipy.io import loadmat\n",
    "import decimal\n",
    "data=loadmat(r'C:\\Users\\saminens\\Desktop\\ML\\ex8_movies')"
   ]
  },
  {
   "cell_type": "code",
   "execution_count": 2,
   "metadata": {},
   "outputs": [
    {
     "name": "stdout",
     "output_type": "stream",
     "text": [
      "Average rating of Movie 1 is: 3.8783185840707963 /5\n"
     ]
    },
    {
     "data": {
      "image/png": "[encoded data removed]",
      "text/plain": [
       "<matplotlib.figure.Figure at 0xa1b1da0>"
      ]
     },
     "metadata": {},
     "output_type": "display_data"
    }
   ],
   "source": [
    "R=data['R']\n",
    "Y=data['Y']\n",
    "pt.imshow(Y,aspect='auto')               #rating is 1-5, non-zero cuz R=1 only if a movie is rated\n",
    "print(\"Average rating of Movie 1 is: {} /5\".format(np.mean(Y[0,np.nonzero(R[0,])]))) "
   ]
  },
  {
   "cell_type": "code",
   "execution_count": 3,
   "metadata": {},
   "outputs": [],
   "source": [
    "#Collaborative Filtering Cost Function\n",
    "dat=loadmat(r'C:\\Users\\saminens\\Desktop\\ML\\ex8_movieParams')\n",
    "Theta=dat['Theta']\n",
    "X=dat['X']\n",
    "num_features=dat['num_features']\n",
    "num_movies=dat['num_movies']\n",
    "num_users=dat['num_users']"
   ]
  },
  {
   "cell_type": "code",
   "execution_count": 4,
   "metadata": {
    "collapsed": true
   },
   "outputs": [],
   "source": [
    "def cfcost(params,Y,R,num_users,num_movies,num_features,lambda1):\n",
    "    X=params[0:num_movies*num_features].reshape(num_movies,num_features)\n",
    "    Theta=params[num_movies*num_features:].reshape(num_users,num_features)\n",
    "    X_grad=np.zeros((X.shape[0]))\n",
    "    Theta_grad=np.zeros((Theta.shape[0]))\n",
    "    J1=np.square(X.dot(Theta.T)-Y)\n",
    "    J=(np.sum(np.sum(J1*R))/2) + (lambda1*(np.sum(np.square(X)))/2) + (lambda1*(np.sum(np.square(Theta)))/2)\n",
    "    X_grad=(((X.dot(Theta.T)-Y)*R).dot(Theta)) + (lambda1*X)\n",
    "    Theta_grad=(((X.dot(Theta.T)-Y)*R).T).dot(X) + (lambda1*Theta) #Careful with multiplying R\n",
    "    grad = np.hstack((X_grad.ravel(), Theta_grad.ravel()))\n",
    "    return J,grad"
   ]
  },
  {
   "cell_type": "code",
   "execution_count": 5,
   "metadata": {},
   "outputs": [
    {
     "data": {
      "text/plain": [
       "(22.224603725685675,\n",
       " array([ -2.52899165,   7.57570308,  -1.89979026,  -0.56819597,\n",
       "          3.35265031,  -0.52339845,  -0.83240713,   4.91163297,\n",
       "         -0.76677878,  -0.38358278,   2.26333698,  -0.35334048,\n",
       "         -0.80378006,   4.74271842,  -0.74040871, -10.5680202 ,\n",
       "          4.62776019,  -7.16004443,  -3.05099006,   1.16441367,\n",
       "         -3.47410789,   0.        ,   0.        ,   0.        ,\n",
       "          0.        ,   0.        ,   0.        ]))"
      ]
     },
     "execution_count": 5,
     "metadata": {},
     "output_type": "execute_result"
    }
   ],
   "source": [
    "num_users = 4\n",
    "num_movies = 5\n",
    "num_features = 3\n",
    "X = X[0:num_movies, 0:num_features]\n",
    "Theta = Theta[0:num_users, 0:num_features]\n",
    "Y = Y[0:num_movies, 0:num_users]\n",
    "R = R[0:num_movies, 0:num_users]\n",
    "J, grad = cfcost(np.append(X.flatten(), Theta.flatten()), Y, R, num_users, num_movies, num_features, 0)\n",
    "J,grad"
   ]
  },
  {
   "cell_type": "code",
   "execution_count": 6,
   "metadata": {},
   "outputs": [
    {
     "data": {
      "text/plain": [
       "31.344056244274217"
      ]
     },
     "execution_count": 6,
     "metadata": {},
     "output_type": "execute_result"
    }
   ],
   "source": [
    "J, grad = cfcost(np.append(X.flatten(), Theta.flatten()), Y, R, num_users, num_movies, num_features, 1.5)\n",
    "J"
   ]
  },
  {
   "cell_type": "code",
   "execution_count": 7,
   "metadata": {
    "collapsed": true
   },
   "outputs": [],
   "source": [
    "def computenumericalgradient(J,Theta):\n",
    "    numgrad = np.zeros((Theta.shape[0]))\n",
    "    perturb = np.zeros((Theta.shape[0]))\n",
    "    e = 1e-4\n",
    "    for p in range(np.size(Theta)):\n",
    "        perturb[p] = e\n",
    "        loss1 = J(Theta - perturb)\n",
    "        loss2 = J(Theta + perturb)\n",
    "        # Compute numerical gradient\n",
    "        numgrad[p] = (loss2 - loss1)/(2 * e)\n",
    "        perturb[p] = 0\n",
    "\n",
    "    return numgrad\n",
    "    "
   ]
  },
  {
   "cell_type": "code",
   "execution_count": 8,
   "metadata": {
    "collapsed": true
   },
   "outputs": [],
   "source": [
    "def checkcf(lambda1):\n",
    "    X_t=np.random.random((4,3))\n",
    "    Theta_t=np.random.random((5,3))\n",
    "    Y = np.dot(Theta_t, X_t.T)\n",
    "    Y[(np.random.random(Y.shape) > .5)] = 0\n",
    "    R = np.zeros_like(Y)\n",
    "    R[Y != 0] = 1\n",
    "\n",
    "    # Run gradient checking\n",
    "    X = np.random.random(np.shape(X_t))\n",
    "    Theta = np.random.random(np.shape(Theta_t))\n",
    "    num_users = Y.shape[1]\n",
    "    num_movies = Y.shape[0]\n",
    "    num_features = np.size(Theta_t,1)   \n",
    "    params = np.append(X.flatten(), Theta.flatten())\n",
    "    def reducedcf(p):\n",
    "        return cfcost(p,Y, R, num_users, num_movies, num_features,lambda1)[0]\n",
    "    numgrad=computenumericalgradient(reducedcf,params)\n",
    "    J,grad=cfcost(np.append(X.flatten(), Theta.flatten()), Y, R, num_users, num_movies, num_features, lambda1)\n",
    "    \n",
    "    return numgrad,grad"
   ]
  },
  {
   "cell_type": "code",
   "execution_count": 9,
   "metadata": {},
   "outputs": [
    {
     "data": {
      "text/plain": [
       "(array([ 0.76337302,  0.27056801,  1.01690856,  0.77487758,  0.25569215,\n",
       "         1.06028665,  0.2530707 ,  0.12002701,  0.22284624, -0.77660478,\n",
       "        -0.60954111, -0.60802009,  1.05138019,  0.43578142,  1.42180529,\n",
       "         1.3656495 ,  1.36765621,  1.08136594, -0.35222845, -0.05474951,\n",
       "        -0.76723143,  1.21640638,  1.15173717,  1.07007569,  0.10627521,\n",
       "         0.3165037 , -0.1016742 ]),\n",
       " array([ 0.76337302,  0.27056801,  1.01690856,  0.77487758,  0.25569215,\n",
       "         1.06028665,  0.2530707 ,  0.12002701,  0.22284624, -0.77660478,\n",
       "        -0.60954111, -0.60802009,  1.05138019,  0.43578142,  1.42180529,\n",
       "         1.3656495 ,  1.36765621,  1.08136594, -0.35222845, -0.05474951,\n",
       "        -0.76723143,  1.21640638,  1.15173717,  1.07007569,  0.10627521,\n",
       "         0.3165037 , -0.1016742 ]))"
      ]
     },
     "execution_count": 9,
     "metadata": {},
     "output_type": "execute_result"
    }
   ],
   "source": [
    "checkcf(0) #numgrad and grad values are matching, which means cost function implementation is correct !!"
   ]
  },
  {
   "cell_type": "code",
   "execution_count": 10,
   "metadata": {},
   "outputs": [
    {
     "name": "stdout",
     "output_type": "stream",
     "text": [
      "I rated 1 Toy Story (1995) 4\n",
      "I rated 7 Twelve Monkeys (1995) 3\n",
      "I rated 12 Usual Suspects, The (1995) 5\n",
      "I rated 54 Outbreak (1995) 4\n",
      "I rated 64 Shawshank Redemption, The (1994) 5\n",
      "I rated 66 While You Were Sleeping (1995) 3\n",
      "I rated 69 Forrest Gump (1994) 5\n",
      "I rated 98 Silence of the Lambs, The (1991) 2\n",
      "I rated 183 Alien (1979) 4\n",
      "I rated 226 Die Hard 2 (1990) 5\n",
      "I rated 355 Sphere (1998) 5\n"
     ]
    }
   ],
   "source": [
    "#Learning movie ratings; but first enter ratings of new user\n",
    "import pandas as pd\n",
    "movieList = pd.read_table(r\"C:\\Users\\saminens\\Desktop\\ML\\movie_ids.txt\",encoding='latin-1',names=[\"Movie\"])\n",
    "movies = movieList.Movie.tolist()\n",
    "my_ratings = [0]*len(movies)\n",
    "my_ratings[0] = 4\n",
    "my_ratings[97] = 2\n",
    "my_ratings[6] = 3\n",
    "my_ratings[11]= 5\n",
    "my_ratings[53]= 4\n",
    "my_ratings[63]= 5\n",
    "my_ratings[65]= 3\n",
    "my_ratings[68]= 5\n",
    "my_ratings[182]= 4\n",
    "my_ratings[225]= 5\n",
    "my_ratings[354]= 5\n",
    "for i in range(len(movies)):\n",
    "    if my_ratings[i] > 0:\n",
    "        print(\"I rated \" + str(movies[i]) +\" \" +str(my_ratings[i]))\n"
   ]
  },
  {
   "cell_type": "code",
   "execution_count": 11,
   "metadata": {
    "collapsed": true
   },
   "outputs": [],
   "source": [
    "def normalizeratings(Y,R):\n",
    "    m,n=Y.shape\n",
    "    Ymean = np.zeros((m,1))\n",
    "    Ynorm = np.zeros((m,n))\n",
    "    for i in range(m):\n",
    "        idx=(R[i]==1)\n",
    "        Ymean[i] = np.mean(Y[i,idx])\n",
    "        Ynorm[i,idx] = Y[i,idx] - Ymean[i]\n",
    "    return Ynorm, Ymean   "
   ]
  },
  {
   "cell_type": "code",
   "execution_count": 12,
   "metadata": {},
   "outputs": [],
   "source": [
    "import scipy.optimize as opt\n",
    "# Add own ratings to the data matrix\n",
    "Y=data['Y']\n",
    "R=data['R']\n",
    "Y = np.hstack((np.asarray(my_ratings).reshape(movieList.shape), Y))\n",
    "R = np.hstack((np.asarray(my_ratings).reshape(movieList.shape) != 0, R))\n",
    "Ynorm, Ymean = normalizeratings(Y,R)\n",
    "num_users=Y.shape[1]\n",
    "num_movies=Y.shape[0]\n",
    "num_features=10\n",
    "X = np.random.randn(num_movies, num_features)\n",
    "Theta = np.random.randn(num_users, num_features)\n",
    "initial_params = np.hstack((X.flatten(), Theta.flatten()))\n",
    "lambda2 = 10\n",
    "def reducedcf(p):\n",
    "    return cfcost(p,Y, R, num_users, num_movies, num_features,lambda2)\n",
    "result = opt.minimize(fun=reducedcf, x0=initial_params,method='CG', jac=True, options={'maxiter': 150})\n",
    "X = result.x[0:num_movies * num_features].reshape((num_movies, num_features))\n",
    "Theta = result.x[num_movies * num_features:].reshape((num_users, num_features))\n"
   ]
  },
  {
   "cell_type": "code",
   "execution_count": 19,
   "metadata": {},
   "outputs": [
    {
     "name": "stdout",
     "output_type": "stream",
     "text": [
      "Predicted rating 1 for movie 1582 T-Men (1947)\n",
      "Predicted rating 8 for movie 313 Titanic (1997)\n",
      "Predicted rating 8 for movie 50 Star Wars (1977)\n",
      "Predicted rating 8 for movie 64 Shawshank Redemption, The (1994)\n",
      "Predicted rating 8 for movie 174 Raiders of the Lost Ark (1981)\n",
      "Predicted rating 8 for movie 318 Schindler's List (1993)\n",
      "Predicted rating 8 for movie 272 Good Will Hunting (1997)\n",
      "Predicted rating 8 for movie 12 Usual Suspects, The (1995)\n",
      "Predicted rating 8 for movie 22 Braveheart (1995)\n",
      "Predicted rating 8 for movie 172 Empire Strikes Back, The (1980)\n",
      "\n",
      "Original ratings provided:\n",
      "Original Rating 4 for movie 1 Toy Story (1995)\n",
      "Original Rating 3 for movie 7 Twelve Monkeys (1995)\n",
      "Original Rating 5 for movie 12 Usual Suspects, The (1995)\n",
      "Original Rating 4 for movie 54 Outbreak (1995)\n",
      "Original Rating 5 for movie 64 Shawshank Redemption, The (1994)\n",
      "Original Rating 3 for movie 66 While You Were Sleeping (1995)\n",
      "Original Rating 5 for movie 69 Forrest Gump (1994)\n",
      "Original Rating 2 for movie 98 Silence of the Lambs, The (1991)\n",
      "Original Rating 4 for movie 183 Alien (1979)\n",
      "Original Rating 5 for movie 226 Die Hard 2 (1990)\n",
      "Original Rating 5 for movie 355 Sphere (1998)\n"
     ]
    }
   ],
   "source": [
    "p= X.dot(Theta.T)\n",
    "my_predictions = p[:,0] + Ymean.T.ravel()\n",
    "sorted_pred = np.sort(my_predictions)\n",
    "idx=np.argsort(my_predictions.ravel())\n",
    "for i in range(10):\n",
    "    j=idx[-i]\n",
    "    print (\"Predicted rating \"+str(int(my_predictions[j]))+\" for movie \"+str(movies[j]))\n",
    "\n",
    "print ('\\nOriginal ratings provided:') #in the output, the movie id is also given.\n",
    "for i in range(len(my_ratings)):\n",
    "    if my_ratings[i]>0:\n",
    "        print (\"Original Rating \"+str(my_ratings[i])+\" for movie \"+str(movies[i]))\n"
   ]
  },
  {
   "cell_type": "code",
   "execution_count": null,
   "metadata": {
    "collapsed": true
   },
   "outputs": [],
   "source": []
  }
 ],
 "metadata": {
  "kernelspec": {
   "display_name": "Python 3",
   "language": "python",
   "name": "python3"
  },
  "language_info": {
   "codemirror_mode": {
    "name": "ipython",
    "version": 3
   },
   "file_extension": ".py",
   "mimetype": "text/x-python",
   "name": "python",
   "nbconvert_exporter": "python",
   "pygments_lexer": "ipython3",
   "version": "3.6.3"
  }
 },
 "nbformat": 4,
 "nbformat_minor": 2
}
