{
 "cells": [
  {
   "cell_type": "code",
   "execution_count": 26,
   "metadata": {},
   "outputs": [
    {
     "data": {
      "image/png": "[encoded data removed]",
      "text/plain": [
       "<matplotlib.figure.Figure at 0xc8cbc50>"
      ]
     },
     "metadata": {},
     "output_type": "display_data"
    }
   ],
   "source": [
    "import csv\n",
    "import sklearn as sk\n",
    "import pandas as pd\n",
    "from sklearn.linear_model import LogisticRegression\n",
    "import matplotlib.pyplot as pt\n",
    "import numpy as np\n",
    "import scipy\n",
    "data = np.loadtxt(r'C:\\Users\\saminens\\Desktop\\ML\\ex2data2.txt', delimiter=\",\")\n",
    "x=data[:,0:2]\n",
    "y=data[:,2:3]\n",
    "pos=np.where(y==0)[0]\n",
    "neg=np.where(y==1)[0]\n",
    "pt.scatter(x[pos,0],x[pos,1],marker='^')\n",
    "pt.scatter(x[neg,0],x[neg,1],marker='o')\n",
    "pt.legend(['Not Admitted','Admitted'],fancybox=True)\n",
    "pt.show()\n"
   ]
  },
  {
   "cell_type": "code",
   "execution_count": 27,
   "metadata": {},
   "outputs": [
    {
     "data": {
      "text/plain": [
       "(118, 28)"
      ]
     },
     "execution_count": 27,
     "metadata": {},
     "output_type": "execute_result"
    }
   ],
   "source": [
    "pf=sk.preprocessing.PolynomialFeatures(6)\n",
    "x_f=pf.fit_transform(data[:,0:2])\n",
    "#noting dimensions is imp.\n",
    "x_f.shape"
   ]
  },
  {
   "cell_type": "code",
   "execution_count": 28,
   "metadata": {
    "collapsed": true
   },
   "outputs": [],
   "source": [
    "def sigmoid(z):\n",
    "    g=1/(1 + np.exp(-z))\n",
    "    return g"
   ]
  },
  {
   "cell_type": "code",
   "execution_count": 29,
   "metadata": {
    "collapsed": true
   },
   "outputs": [],
   "source": [
    "def h(theta,x_f):\n",
    "   \n",
    "    return sigmoid(x_f.dot(theta))"
   ]
  },
  {
   "cell_type": "code",
   "execution_count": 30,
   "metadata": {},
   "outputs": [],
   "source": [
    "# here alpha is the regularisation parameter.\n",
    "def costfunctionreg(theta,alpha,x,y):\n",
    "    m=len(y)\n",
    "    h1=h(theta,x_f).reshape(-1,1)\n",
    "    reg= (alpha/2)*theta**2\n",
    "    rcost= y.T*np.log(h1)+(1-y).T*np.log(1-h1)\n",
    "    J= -sum(rcost)/m + sum(reg[1:])/m\n",
    "    return(J[0])"
   ]
  },
  {
   "cell_type": "code",
   "execution_count": 31,
   "metadata": {},
   "outputs": [
    {
     "data": {
      "text/plain": [
       "(118, 1)"
      ]
     },
     "execution_count": 31,
     "metadata": {},
     "output_type": "execute_result"
    }
   ],
   "source": [
    "y.shape\n"
   ]
  },
  {
   "cell_type": "code",
   "execution_count": 32,
   "metadata": {
    "collapsed": true
   },
   "outputs": [],
   "source": [
    "def gradientreg(theta,alpha,x,y):\n",
    "    m=len(y)\n",
    "    h2=h(theta,x_f).reshape(-1,1)\n",
    "    reg1= (alpha*theta)/m\n",
    "    grad=(h2-y).T.dot(x_f)/m + reg1.T\n",
    "    grad[0][0] -= reg1[0]\n",
    "  #we need a column matrix  \n",
    "    return np.ndarray.flatten(grad)"
   ]
  },
  {
   "cell_type": "code",
   "execution_count": 51,
   "metadata": {},
   "outputs": [
    {
     "data": {
      "text/plain": [
       "array([  8.47457627e-03,   1.87880932e-02,   7.77711864e-05,\n",
       "         5.03446395e-02,   1.15013308e-02,   3.76648474e-02,\n",
       "         1.83559872e-02,   7.32393391e-03,   8.19244468e-03,\n",
       "         2.34764889e-02,   3.93486234e-02,   2.23923907e-03,\n",
       "         1.28600503e-02,   3.09593720e-03,   3.93028171e-02,\n",
       "         1.99707467e-02,   4.32983232e-03,   3.38643902e-03,\n",
       "         5.83822078e-03,   4.47629067e-03,   3.10079849e-02,\n",
       "         3.10312442e-02,   1.09740238e-03,   6.31570797e-03,\n",
       "         4.08503006e-04,   7.26504316e-03,   1.37646175e-03,\n",
       "         3.87936363e-02])"
      ]
     },
     "execution_count": 51,
     "metadata": {},
     "output_type": "execute_result"
    }
   ],
   "source": [
    "m,n=x_f.shape\n",
    "itheta=np.zeros(n).reshape(-1,1)\n",
    "cost=costfunctionreg(itheta,40,x_f,y)\n",
    "grad=gradientreg(itheta,40,x_f,y)\n",
    "grad\n"
   ]
  },
  {
   "cell_type": "code",
   "execution_count": 52,
   "metadata": {},
   "outputs": [
    {
     "name": "stderr",
     "output_type": "stream",
     "text": [
      "C:\\Users\\saminens\\AppData\\Local\\Continuum\\anaconda3\\lib\\site-packages\\scipy\\optimize\\_minimize.py:381: RuntimeWarning: Method Nelder-Mead does not use gradient information (jac).\n",
      "  RuntimeWarning)\n"
     ]
    },
    {
     "data": {
      "text/plain": [
       " final_simplex: (array([[  5.23950748e-01,  -2.34683951e-02,   6.57529654e-03,\n",
       "         -3.02979119e-02,  -1.88772484e-01,   1.81507061e-01,\n",
       "          7.37160158e-02,  -1.04281492e-01,   5.54894346e-02,\n",
       "          1.15535670e-02,   4.03360449e-01,  -1.41832559e-01,\n",
       "         -4.00407216e-02,  -6.37992402e-02,   6.95527886e-02,\n",
       "         -7.10714502e-02,   5.91606187e-03,   4.42864713e-02,\n",
       "         -5.78230742e-02,  -1.28921447e-01,  -3.46223828e-03,\n",
       "          9.38650068e-03,  -4.69591393e-01,   1.20596131e-01,\n",
       "         -1.14743159e-01,  -1.45077310e-01,  -6.41768842e-02,\n",
       "          9.28377136e-02],\n",
       "       [  5.32008741e-01,  -2.43837184e-02,   4.03584699e-03,\n",
       "         -3.54384001e-02,  -1.96735872e-01,   1.84303851e-01,\n",
       "          7.95995209e-02,  -1.04496837e-01,   5.45678936e-02,\n",
       "          1.27558381e-02,   4.10476375e-01,  -1.45217653e-01,\n",
       "         -4.05526029e-02,  -6.61299926e-02,   7.11906653e-02,\n",
       "         -6.96814696e-02,   8.25081652e-03,   4.43963317e-02,\n",
       "         -5.80500925e-02,  -1.28942239e-01,  -5.20721725e-03,\n",
       "          1.02344917e-02,  -4.77692792e-01,   1.25678684e-01,\n",
       "         -1.18970921e-01,  -1.45278130e-01,  -6.56949863e-02,\n",
       "          9.53903014e-02],\n",
       "       [  5.42201482e-01,  -2.55017696e-02,   3.76539743e-03,\n",
       "         -3.67232630e-02,  -2.00821883e-01,   1.88244952e-01,\n",
       "          8.13072095e-02,  -1.05729055e-01,   5.51035348e-02,\n",
       "          1.24821523e-02,   4.19141515e-01,  -1.48490697e-01,\n",
       "         -4.06436924e-02,  -6.78714183e-02,   7.21036437e-02,\n",
       "         -7.10137288e-02,   8.53592638e-03,   4.47181444e-02,\n",
       "         -5.93808613e-02,  -1.31385389e-01,  -4.96591927e-03,\n",
       "          1.05836754e-02,  -4.86793458e-01,   1.29308819e-01,\n",
       "         -1.21343474e-01,  -1.47901118e-01,  -6.70340468e-02,\n",
       "          9.78814502e-02],\n",
       "       [  5.28778486e-01,  -2.44880813e-02,   3.17469108e-03,\n",
       "         -3.56851767e-02,  -1.97023887e-01,   1.83221828e-01,\n",
       "          7.99158518e-02,  -1.03732966e-01,   5.35814914e-02,\n",
       "          1.30368754e-02,   4.08332506e-01,  -1.44271742e-01,\n",
       "         -4.01670069e-02,  -6.56247989e-02,   7.08069937e-02,\n",
       "         -6.89860160e-02,   8.09846062e-03,   4.43047968e-02,\n",
       "         -5.79516526e-02,  -1.27508809e-01,  -4.93151930e-03,\n",
       "          9.95336877e-03,  -4.75100514e-01,   1.25399783e-01,\n",
       "         -1.18187612e-01,  -1.44436171e-01,  -6.51682747e-02,\n",
       "          9.53217488e-02],\n",
       "       [  5.23299823e-01,  -2.38047162e-02,   3.37160100e-03,\n",
       "         -3.60507311e-02,  -1.94826095e-01,   1.81155336e-01,\n",
       "          7.88850727e-02,  -1.02490375e-01,   5.33504448e-02,\n",
       "          1.29477735e-02,   4.03696817e-01,  -1.42907853e-01,\n",
       "         -3.96001804e-02,  -6.52990549e-02,   7.02373441e-02,\n",
       "         -6.81175485e-02,   9.09572511e-03,   4.32512775e-02,\n",
       "         -5.69842892e-02,  -1.26792657e-01,  -5.14236454e-03,\n",
       "          1.03860654e-02,  -4.69849931e-01,   1.24271090e-01,\n",
       "         -1.17250899e-01,  -1.43007674e-01,  -6.46518287e-02,\n",
       "          9.39035489e-02],\n",
       "       [  5.25986593e-01,  -2.38891834e-02,   4.24781086e-03,\n",
       "         -3.53150426e-02,  -1.95376343e-01,   1.83514644e-01,\n",
       "          8.00426519e-02,  -1.03111638e-01,   5.31170307e-02,\n",
       "          1.22173490e-02,   4.07190751e-01,  -1.44495803e-01,\n",
       "         -4.02892643e-02,  -6.64733362e-02,   7.03730189e-02,\n",
       "         -6.85032821e-02,   8.12996363e-03,   4.51071754e-02,\n",
       "         -5.68292085e-02,  -1.27203849e-01,  -5.94136620e-03,\n",
       "          1.03617420e-02,  -4.73914890e-01,   1.25342543e-01,\n",
       "         -1.18916117e-01,  -1.42610889e-01,  -6.57760083e-02,\n",
       "          9.46415983e-02],\n",
       "       [  5.38332260e-01,  -2.59813417e-02,   2.97411078e-04,\n",
       "         -4.03559322e-02,  -2.06733051e-01,   1.86453261e-01,\n",
       "          8.45967507e-02,  -1.03471062e-01,   5.36031113e-02,\n",
       "          1.47420452e-02,   4.15220551e-01,  -1.46801072e-01,\n",
       "         -3.96842843e-02,  -6.72436843e-02,   7.30643954e-02,\n",
       "         -6.83054536e-02,   1.17442202e-02,   4.26681115e-02,\n",
       "         -5.91424496e-02,  -1.29345961e-01,  -5.46970159e-03,\n",
       "          1.12120314e-02,  -4.83274322e-01,   1.29955170e-01,\n",
       "         -1.21462353e-01,  -1.47700530e-01,  -6.60295926e-02,\n",
       "          9.79922757e-02],\n",
       "       [  5.03464297e-01,  -2.29528320e-02,   4.32113025e-03,\n",
       "         -3.26918754e-02,  -1.85478448e-01,   1.74225362e-01,\n",
       "          7.47266981e-02,  -9.91962506e-02,   5.19598675e-02,\n",
       "          1.19325267e-02,   3.88006064e-01,  -1.37080902e-01,\n",
       "         -3.84864270e-02,  -6.23944446e-02,   6.72573956e-02,\n",
       "         -6.63576910e-02,   7.77051730e-03,   4.19207447e-02,\n",
       "         -5.49750128e-02,  -1.22363270e-01,  -4.67336785e-03,\n",
       "          9.43447781e-03,  -4.51871186e-01,   1.18354338e-01,\n",
       "         -1.12105412e-01,  -1.37711461e-01,  -6.20301562e-02,\n",
       "          9.00033571e-02],\n",
       "       [  5.07476751e-01,  -2.32406633e-02,   3.14178693e-03,\n",
       "         -3.50668324e-02,  -1.89004958e-01,   1.75671239e-01,\n",
       "          7.64125792e-02,  -9.92591341e-02,   5.19163194e-02,\n",
       "          1.25879765e-02,   3.91501424e-01,  -1.38652171e-01,\n",
       "         -3.84190427e-02,  -6.31309647e-02,   6.80647222e-02,\n",
       "         -6.60960373e-02,   8.75737720e-03,   4.16733285e-02,\n",
       "         -5.53031524e-02,  -1.22951108e-01,  -4.78732103e-03,\n",
       "          9.95686583e-03,  -4.55559224e-01,   1.20390086e-01,\n",
       "         -1.13564827e-01,  -1.38663188e-01,  -6.24571549e-02,\n",
       "          9.10925484e-02],\n",
       "       [  5.17871419e-01,  -2.44888653e-02,   2.37183601e-03,\n",
       "         -3.72332815e-02,  -1.94824471e-01,   1.79106460e-01,\n",
       "          8.00654695e-02,  -1.00536987e-01,   5.20687529e-02,\n",
       "          1.32646773e-02,   4.00307287e-01,  -1.41668461e-01,\n",
       "         -3.87945839e-02,  -6.52309575e-02,   6.99276989e-02,\n",
       "         -6.65714250e-02,   9.95380657e-03,   4.20758472e-02,\n",
       "         -5.60597363e-02,  -1.24869116e-01,  -6.08678621e-03,\n",
       "          1.10721816e-02,  -4.65512815e-01,   1.24624271e-01,\n",
       "         -1.17062692e-01,  -1.41150747e-01,  -6.42443803e-02,\n",
       "          9.31532169e-02],\n",
       "       [  5.53071143e-01,  -2.76292763e-02,   9.40979695e-04,\n",
       "         -4.10914190e-02,  -2.12145303e-01,   1.92426720e-01,\n",
       "          8.74845098e-02,  -1.06477041e-01,   5.36294943e-02,\n",
       "          1.48405439e-02,   4.28352880e-01,  -1.51907543e-01,\n",
       "         -4.10599254e-02,  -7.03676158e-02,   7.52121758e-02,\n",
       "         -6.99468323e-02,   1.08232064e-02,   4.60616102e-02,\n",
       "         -6.00278359e-02,  -1.32307642e-01,  -6.16898353e-03,\n",
       "          1.26760967e-02,  -4.97689973e-01,   1.34500980e-01,\n",
       "         -1.25797550e-01,  -1.51274842e-01,  -6.88167915e-02,\n",
       "          1.00598791e-01],\n",
       "       [  5.28248595e-01,  -2.64424651e-02,   8.69260190e-04,\n",
       "         -3.94029636e-02,  -2.02377734e-01,   1.83625711e-01,\n",
       "          8.32973599e-02,  -1.01803998e-01,   5.17405001e-02,\n",
       "          1.41629575e-02,   4.08808134e-01,  -1.45157271e-01,\n",
       "         -3.93619546e-02,  -6.68190741e-02,   7.16639327e-02,\n",
       "         -6.71883433e-02,   1.06654893e-02,   4.36800062e-02,\n",
       "         -5.74601859e-02,  -1.26369986e-01,  -5.53182559e-03,\n",
       "          1.16814175e-02,  -4.75100442e-01,   1.28071429e-01,\n",
       "         -1.19813229e-01,  -1.44119308e-01,  -6.55943218e-02,\n",
       "          9.61544853e-02],\n",
       "       [  5.06152246e-01,  -2.46279057e-02,   2.74967641e-03,\n",
       "         -3.49872123e-02,  -1.89566894e-01,   1.75297424e-01,\n",
       "          7.75410055e-02,  -9.85918781e-02,   5.10042113e-02,\n",
       "          1.25915329e-02,   3.90821413e-01,  -1.38380764e-01,\n",
       "         -3.83962852e-02,  -6.33843529e-02,   6.81710970e-02,\n",
       "         -6.51796779e-02,   8.88914747e-03,   4.17268553e-02,\n",
       "         -5.50486260e-02,  -1.22436629e-01,  -5.45531048e-03,\n",
       "          1.06824195e-02,  -4.54400256e-01,   1.21061143e-01,\n",
       "         -1.14122801e-01,  -1.38097161e-01,  -6.27459973e-02,\n",
       "          9.11393550e-02],\n",
       "       [  5.18763329e-01,  -2.54939951e-02,   1.76542560e-03,\n",
       "         -3.73120709e-02,  -1.97129209e-01,   1.80231156e-01,\n",
       "          8.11611732e-02,  -1.00369566e-01,   5.09988716e-02,\n",
       "          1.34594665e-02,   4.01166837e-01,  -1.42266977e-01,\n",
       "         -3.88923632e-02,  -6.55913294e-02,   7.01097178e-02,\n",
       "         -6.62632580e-02,   9.66363249e-03,   4.33194258e-02,\n",
       "         -5.62070866e-02,  -1.24325594e-01,  -5.94177476e-03,\n",
       "          1.13770099e-02,  -4.66754892e-01,   1.25182334e-01,\n",
       "         -1.17604215e-01,  -1.41414722e-01,  -6.45029523e-02,\n",
       "          9.41699301e-02],\n",
       "       [  5.46682439e-01,  -2.70049654e-02,   7.63662136e-04,\n",
       "         -4.15774111e-02,  -2.10011448e-01,   1.90317177e-01,\n",
       "          8.68684286e-02,  -1.05089847e-01,   5.31495797e-02,\n",
       "          1.47327050e-02,   4.23491634e-01,  -1.50550655e-01,\n",
       "         -4.05329591e-02,  -6.97896311e-02,   7.43573621e-02,\n",
       "         -6.89863936e-02,   1.13065939e-02,   4.51424966e-02,\n",
       "         -5.92331208e-02,  -1.30720420e-01,  -6.23748641e-03,\n",
       "          1.25877117e-02,  -4.92238177e-01,   1.33182614e-01,\n",
       "         -1.24610260e-01,  -1.48861611e-01,  -6.81663519e-02,\n",
       "          9.95760211e-02],\n",
       "       [  5.28506341e-01,  -2.67897093e-02,   1.62835278e-04,\n",
       "         -4.07037763e-02,  -2.04076015e-01,   1.83802639e-01,\n",
       "          8.46075306e-02,  -1.01452513e-01,   5.11246270e-02,\n",
       "          1.45384490e-02,   4.09367955e-01,  -1.45542481e-01,\n",
       "         -3.90294883e-02,  -6.73960559e-02,   7.20174874e-02,\n",
       "         -6.64753349e-02,   1.13524800e-02,   4.33405756e-02,\n",
       "         -5.73709961e-02,  -1.26122374e-01,  -6.00290370e-03,\n",
       "          1.22967754e-02,  -4.75556191e-01,   1.29321923e-01,\n",
       "         -1.20722840e-01,  -1.43895126e-01,  -6.58520972e-02,\n",
       "          9.66436794e-02],\n",
       "       [  5.34957828e-01,  -2.73212677e-02,  -1.45362693e-04,\n",
       "         -4.17820588e-02,  -2.07263581e-01,   1.86197781e-01,\n",
       "          8.59405763e-02,  -1.02012111e-01,   5.14618752e-02,\n",
       "          1.47864856e-02,   4.14422818e-01,  -1.47438403e-01,\n",
       "         -3.91678033e-02,  -6.83419388e-02,   7.29046520e-02,\n",
       "         -6.70625384e-02,   1.16074417e-02,   4.36706375e-02,\n",
       "         -5.79947590e-02,  -1.27511229e-01,  -6.08941943e-03,\n",
       "          1.26173069e-02,  -4.81360365e-01,   1.31339009e-01,\n",
       "         -1.22426844e-01,  -1.45975217e-01,  -6.67149056e-02,\n",
       "          9.80744659e-02],\n",
       "       [  5.11297701e-01,  -2.36930671e-02,   1.28957524e-03,\n",
       "         -3.90125467e-02,  -1.94967333e-01,   1.77980696e-01,\n",
       "          8.04106254e-02,  -9.83810247e-02,   5.03729326e-02,\n",
       "          1.35960036e-02,   3.95487498e-01,  -1.40746902e-01,\n",
       "         -3.77242885e-02,  -6.52958488e-02,   6.92117180e-02,\n",
       "         -6.47831303e-02,   1.08628256e-02,   4.14810273e-02,\n",
       "         -5.50951065e-02,  -1.22744366e-01,  -5.99932934e-03,\n",
       "          1.13089126e-02,  -4.60249300e-01,   1.24234684e-01,\n",
       "         -1.16509934e-01,  -1.39064473e-01,  -6.37851365e-02,\n",
       "          9.27245383e-02],\n",
       "       [  5.11966852e-01,  -2.60166374e-02,   3.72196080e-04,\n",
       "         -3.95147512e-02,  -1.97134834e-01,   1.78332880e-01,\n",
       "          8.12044320e-02,  -9.76410403e-02,   4.94944312e-02,\n",
       "          1.36683580e-02,   3.96824601e-01,  -1.41047608e-01,\n",
       "         -3.77172757e-02,  -6.52714102e-02,   6.94049859e-02,\n",
       "         -6.43958144e-02,   1.04820912e-02,   4.20986664e-02,\n",
       "         -5.57220970e-02,  -1.22527685e-01,  -5.41595937e-03,\n",
       "          1.17577452e-02,  -4.60346811e-01,   1.25179978e-01,\n",
       "         -1.16388433e-01,  -1.39748498e-01,  -6.36094117e-02,\n",
       "          9.32941379e-02],\n",
       "       [  5.12529693e-01,  -2.64416932e-02,   2.03452332e-04,\n",
       "         -4.01143457e-02,  -1.96860700e-01,   1.78662461e-01,\n",
       "          8.16964093e-02,  -9.69552792e-02,   4.99898071e-02,\n",
       "          1.36026494e-02,   3.97108468e-01,  -1.41328017e-01,\n",
       "         -3.68533142e-02,  -6.57086239e-02,   6.95539174e-02,\n",
       "         -6.44507910e-02,   1.04921178e-02,   4.20907467e-02,\n",
       "         -5.64389851e-02,  -1.22701388e-01,  -5.84756830e-03,\n",
       "          1.20164208e-02,  -4.60700149e-01,   1.25912231e-01,\n",
       "         -1.17378813e-01,  -1.40252869e-01,  -6.38771764e-02,\n",
       "          9.38550798e-02],\n",
       "       [  5.42657700e-01,  -2.89182704e-02,  -2.02829359e-03,\n",
       "         -4.48111858e-02,  -2.14370965e-01,   1.89122820e-01,\n",
       "          8.98553939e-02,  -1.02417837e-01,   5.08572459e-02,\n",
       "          1.60767830e-02,   4.21028884e-01,  -1.50119151e-01,\n",
       "         -3.92464606e-02,  -7.00439956e-02,   7.46844519e-02,\n",
       "         -6.65729322e-02,   1.33196144e-02,   4.39003875e-02,\n",
       "         -5.88011378e-02,  -1.28390016e-01,  -6.57120799e-03,\n",
       "          1.36976995e-02,  -4.88805134e-01,   1.35189714e-01,\n",
       "         -1.25349172e-01,  -1.48006826e-01,  -6.79262067e-02,\n",
       "          1.00302148e-01],\n",
       "       [  5.26896027e-01,  -2.74582962e-02,  -1.64337357e-03,\n",
       "         -4.33531472e-02,  -2.07989059e-01,   1.83557450e-01,\n",
       "          8.69453550e-02,  -9.95135391e-02,   4.93942295e-02,\n",
       "          1.57416800e-02,   4.08096473e-01,  -1.45637422e-01,\n",
       "         -3.80243079e-02,  -6.81891197e-02,   7.26665159e-02,\n",
       "         -6.46250425e-02,   1.30847374e-02,   4.23620655e-02,\n",
       "         -5.68650719e-02,  -1.24791032e-01,  -6.41929663e-03,\n",
       "          1.33401660e-02,  -4.74559892e-01,   1.31141862e-01,\n",
       "         -1.21782788e-01,  -1.43763411e-01,  -6.60269170e-02,\n",
       "          9.72633122e-02],\n",
       "       [  5.31667710e-01,  -2.81923531e-02,  -1.62933261e-03,\n",
       "         -4.41012437e-02,  -2.09056735e-01,   1.84949774e-01,\n",
       "          8.82272317e-02,  -9.99678087e-02,   5.05507346e-02,\n",
       "          1.54055941e-02,   4.12646859e-01,  -1.47077193e-01,\n",
       "         -3.81816972e-02,  -6.90294819e-02,   7.32367888e-02,\n",
       "         -6.52247888e-02,   1.39700435e-02,   4.20128004e-02,\n",
       "         -5.74168060e-02,  -1.26456210e-01,  -7.35844303e-03,\n",
       "          1.37465044e-02,  -4.78829550e-01,   1.32921420e-01,\n",
       "         -1.23172663e-01,  -1.45063103e-01,  -6.68670338e-02,\n",
       "          9.77241875e-02],\n",
       "       [  5.29119984e-01,  -2.81527956e-02,  -2.32463168e-03,\n",
       "         -4.38307820e-02,  -2.10018374e-01,   1.84877501e-01,\n",
       "          8.78448373e-02,  -9.98970400e-02,   4.86388204e-02,\n",
       "          1.58323667e-02,   4.11273617e-01,  -1.46468245e-01,\n",
       "         -3.82891433e-02,  -6.85464975e-02,   7.29470530e-02,\n",
       "         -6.46183947e-02,   1.25813868e-02,   4.35416276e-02,\n",
       "         -5.74695200e-02,  -1.24992700e-01,  -6.13450654e-03,\n",
       "          1.37242415e-02,  -4.76952690e-01,   1.32051985e-01,\n",
       "         -1.21997221e-01,  -1.44487628e-01,  -6.62425621e-02,\n",
       "          9.78098364e-02],\n",
       "       [  5.16044822e-01,  -2.72014311e-02,  -2.17506137e-03,\n",
       "         -4.26157316e-02,  -2.04245041e-01,   1.79688787e-01,\n",
       "          8.52761081e-02,  -9.74528770e-02,   4.81010782e-02,\n",
       "          1.54455409e-02,   4.00585712e-01,  -1.42431047e-01,\n",
       "         -3.72498957e-02,  -6.65159543e-02,   7.09789529e-02,\n",
       "         -6.31703377e-02,   1.27485821e-02,   4.13122345e-02,\n",
       "         -5.59745855e-02,  -1.22147890e-01,  -5.91301012e-03,\n",
       "          1.30440059e-02,  -4.64693655e-01,   1.28430939e-01,\n",
       "         -1.18822903e-01,  -1.40999888e-01,  -6.44310677e-02,\n",
       "          9.53202567e-02],\n",
       "       [  5.28153890e-01,  -2.78684279e-02,  -3.20907438e-03,\n",
       "         -4.54059505e-02,  -2.10994895e-01,   1.84243277e-01,\n",
       "          8.84306424e-02,  -9.92819771e-02,   4.83470120e-02,\n",
       "          1.65863859e-02,   4.10564655e-01,  -1.46216521e-01,\n",
       "         -3.79873285e-02,  -6.87915688e-02,   7.32304645e-02,\n",
       "         -6.36945530e-02,   1.31586462e-02,   4.26921348e-02,\n",
       "         -5.73661250e-02,  -1.24516083e-01,  -5.98943334e-03,\n",
       "          1.38593805e-02,  -4.76104185e-01,   1.32348566e-01,\n",
       "         -1.21941887e-01,  -1.44226430e-01,  -6.59560755e-02,\n",
       "          9.78303375e-02],\n",
       "       [  5.13369713e-01,  -2.70870092e-02,  -2.16153136e-03,\n",
       "         -4.26123238e-02,  -2.03272552e-01,   1.78921334e-01,\n",
       "          8.49484974e-02,  -9.68425831e-02,   4.77280759e-02,\n",
       "          1.53328258e-02,   3.98551305e-01,  -1.41833377e-01,\n",
       "         -3.70704232e-02,  -6.63331597e-02,   7.07605145e-02,\n",
       "         -6.27590581e-02,   1.25646402e-02,   4.14101570e-02,\n",
       "         -5.56727936e-02,  -1.21434150e-01,  -6.03208966e-03,\n",
       "          1.31046565e-02,  -4.62496493e-01,   1.28060603e-01,\n",
       "         -1.18346614e-01,  -1.40241955e-01,  -6.41488893e-02,\n",
       "          9.48747873e-02],\n",
       "       [  5.44663722e-01,  -2.92111842e-02,  -3.21915954e-03,\n",
       "         -4.69428726e-02,  -2.17357695e-01,   1.90194430e-01,\n",
       "          9.16580365e-02,  -1.02087720e-01,   4.96350037e-02,\n",
       "          1.67032111e-02,   4.23931673e-01,  -1.51437845e-01,\n",
       "         -3.90486139e-02,  -7.12686977e-02,   7.53251585e-02,\n",
       "         -6.58109378e-02,   1.38533469e-02,   4.41064296e-02,\n",
       "         -5.89049852e-02,  -1.28164304e-01,  -6.78117584e-03,\n",
       "          1.45571585e-02,  -4.91279949e-01,   1.37298067e-01,\n",
       "         -1.26553028e-01,  -1.48210360e-01,  -6.85254319e-02,\n",
       "          1.01176500e-01],\n",
       "       [  5.40443453e-01,  -2.85509832e-02,  -3.34478657e-03,\n",
       "         -4.71138178e-02,  -2.15979017e-01,   1.89193685e-01,\n",
       "          9.09721770e-02,  -1.01437865e-01,   4.94967642e-02,\n",
       "          1.65223440e-02,   4.20630992e-01,  -1.50559551e-01,\n",
       "         -3.90697055e-02,  -7.06317627e-02,   7.45165580e-02,\n",
       "         -6.50021965e-02,   1.40724420e-02,   4.35811755e-02,\n",
       "         -5.85376885e-02,  -1.27425086e-01,  -6.60751412e-03,\n",
       "          1.43174332e-02,  -4.87366671e-01,   1.36599208e-01,\n",
       "         -1.25653723e-01,  -1.46793661e-01,  -6.79955839e-02,\n",
       "          1.00323524e-01]]), array([ 0.52342315,  0.52423644,  0.52427031,  0.52453116,  0.52465914,\n",
       "        0.52492199,  0.52504242,  0.52510123,  0.52527504,  0.52533916,\n",
       "        0.52541717,  0.52551308,  0.5255178 ,  0.52551962,  0.52556271,\n",
       "        0.52585308,  0.52585848,  0.52606672,  0.52625718,  0.52630084,\n",
       "        0.52654726,  0.52655771,  0.52666615,  0.52686058,  0.52695888,\n",
       "        0.52710645,  0.52712168,  0.52719588,  0.52726958]))\n",
       "           fun: 0.52342315493542702\n",
       "       message: 'Maximum number of iterations has been exceeded.'\n",
       "          nfev: 1139\n",
       "           nit: 1000\n",
       "        status: 2\n",
       "       success: False\n",
       "             x: array([ 0.52395075, -0.0234684 ,  0.0065753 , -0.03029791, -0.18877248,\n",
       "        0.18150706,  0.07371602, -0.10428149,  0.05548943,  0.01155357,\n",
       "        0.40336045, -0.14183256, -0.04004072, -0.06379924,  0.06955279,\n",
       "       -0.07107145,  0.00591606,  0.04428647, -0.05782307, -0.12892145,\n",
       "       -0.00346224,  0.0093865 , -0.46959139,  0.12059613, -0.11474316,\n",
       "       -0.14507731, -0.06417688,  0.09283771])"
      ]
     },
     "execution_count": 52,
     "metadata": {},
     "output_type": "execute_result"
    }
   ],
   "source": [
    "optim=scipy.optimize.minimize(costfunctionreg,itheta,jac=gradientreg,method='Nelder-Mead',args=(40,x_f,y),options={'maxiter':1000})\n",
    "optim\n"
   ]
  },
  {
   "cell_type": "code",
   "execution_count": 53,
   "metadata": {},
   "outputs": [
    {
     "data": {
      "image/png": "[encoded data removed]",
      "text/plain": [
       "<matplotlib.figure.Figure at 0xd0fa7b8>"
      ]
     },
     "metadata": {},
     "output_type": "display_data"
    }
   ],
   "source": [
    "minx1,maxx1=min(x[:,0]),max(x[:,0])\n",
    "minx2,maxx2=min(x[:,1]),max(x[:,1])\n",
    "plot_x,plot_y=np.meshgrid(np.linspace(minx1,maxx1),np.linspace(minx2,maxx2))\n",
    "q= pf.fit_transform(np.c_[plot_x.flatten(),plot_y.flatten()])\n",
    "a=(q.dot((optim.x).reshape(-1,1)))\n",
    "r=a.reshape(plot_x.shape)\n",
    "x=data[:,0:2]\n",
    "y=data[:,2:3]\n",
    "pos=np.where(y==0)[0]\n",
    "neg=np.where(y==1)[0]\n",
    "pt.scatter(x[pos,0],x[pos,1],marker='^')\n",
    "pt.scatter(x[neg,0],x[neg,1],marker='o')\n",
    "pt.legend(['Not Admitted','Admitted'],fancybox=True)\n",
    "pt.contour(plot_x,plot_y,r.T,[0.5])\n",
    "pt.show()"
   ]
  },
  {
   "cell_type": "code",
   "execution_count": null,
   "metadata": {
    "collapsed": true
   },
   "outputs": [],
   "source": []
  },
  {
   "cell_type": "code",
   "execution_count": null,
   "metadata": {
    "collapsed": true
   },
   "outputs": [],
   "source": []
  }
 ],
 "metadata": {
  "kernelspec": {
   "display_name": "Python 3",
   "language": "python",
   "name": "python3"
  },
  "language_info": {
   "codemirror_mode": {
    "name": "ipython",
    "version": 3
   },
   "file_extension": ".py",
   "mimetype": "text/x-python",
   "name": "python",
   "nbconvert_exporter": "python",
   "pygments_lexer": "ipython3",
   "version": "3.6.3"
  }
 },
 "nbformat": 4,
 "nbformat_minor": 2
}
