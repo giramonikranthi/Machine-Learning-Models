{
 "cells": [
  {
   "cell_type": "code",
   "execution_count": 1,
   "metadata": {},
   "outputs": [
    {
     "data": {
      "text/plain": [
       "{'X': array([[ 0.,  0.,  0., ...,  0.,  0.,  0.],\n",
       "        [ 0.,  0.,  0., ...,  0.,  0.,  0.],\n",
       "        [ 0.,  0.,  0., ...,  0.,  0.,  0.],\n",
       "        ..., \n",
       "        [ 0.,  0.,  0., ...,  0.,  0.,  0.],\n",
       "        [ 0.,  0.,  0., ...,  0.,  0.,  0.],\n",
       "        [ 0.,  0.,  0., ...,  0.,  0.,  0.]]),\n",
       " '__globals__': [],\n",
       " '__header__': b'MATLAB 5.0 MAT-file, Platform: GLNXA64, Created on: Sun Oct 16 13:09:09 2011',\n",
       " '__version__': '1.0',\n",
       " 'y': array([[10],\n",
       "        [10],\n",
       "        [10],\n",
       "        ..., \n",
       "        [ 9],\n",
       "        [ 9],\n",
       "        [ 9]], dtype=uint8)}"
      ]
     },
     "execution_count": 1,
     "metadata": {},
     "output_type": "execute_result"
    }
   ],
   "source": [
    "import numpy as np\n",
    "import matplotlib.pyplot as pt\n",
    "%matplotlib inline\n",
    "from scipy.io import loadmat\n",
    "data = loadmat(r'C:\\Users\\saminens\\Desktop\\ML\\ex3data1.mat')\n",
    "data"
   ]
  },
  {
   "cell_type": "code",
   "execution_count": 2,
   "metadata": {},
   "outputs": [
    {
     "data": {
      "text/plain": [
       "dict_keys(['__header__', '__version__', '__globals__', 'Theta1', 'Theta2'])"
      ]
     },
     "execution_count": 2,
     "metadata": {},
     "output_type": "execute_result"
    }
   ],
   "source": [
    "weights=loadmat(r'C:\\Users\\saminens\\Desktop\\ML\\ex3weights.mat')\n",
    "weights.keys()\n"
   ]
  },
  {
   "cell_type": "code",
   "execution_count": 3,
   "metadata": {
    "collapsed": true
   },
   "outputs": [],
   "source": [
    "X=data['X']\n",
    "y=data['y'].ravel()\n",
    "m,n=X.shape"
   ]
  },
  {
   "cell_type": "code",
   "execution_count": 4,
   "metadata": {
    "collapsed": true
   },
   "outputs": [],
   "source": [
    "\n",
    "#x matrix is 5000 images, each image being a flattened 20X20 pixels.\n",
    "#flattened being, rows being appended one next to the other\n",
    "x=np.hstack((np.ones((m,1)),X))\n"
   ]
  },
  {
   "cell_type": "code",
   "execution_count": 5,
   "metadata": {},
   "outputs": [
    {
     "data": {
      "text/plain": [
       "(10, 26)"
      ]
     },
     "execution_count": 5,
     "metadata": {},
     "output_type": "execute_result"
    }
   ],
   "source": [
    "t1,t2=weights['Theta1'],weights['Theta2']\n",
    "t2.shape"
   ]
  },
  {
   "cell_type": "code",
   "execution_count": 6,
   "metadata": {},
   "outputs": [
    {
     "data": {
      "text/plain": [
       "array([4397, 2940,  653, 4117, 1805, 4241, 1934, 3070, 1861,  743])"
      ]
     },
     "execution_count": 6,
     "metadata": {},
     "output_type": "execute_result"
    }
   ],
   "source": [
    "sd=np.random.choice(x.shape[0],10)\n",
    "sd"
   ]
  },
  {
   "cell_type": "code",
   "execution_count": 7,
   "metadata": {},
   "outputs": [
    {
     "data": {
      "text/plain": [
       "<matplotlib.image.AxesImage at 0x979bb70>"
      ]
     },
     "execution_count": 7,
     "metadata": {},
     "output_type": "execute_result"
    },
    {
     "data": {
      "image/png": "[encoded data removed]",
      "text/plain": [
       "<matplotlib.figure.Figure at 0x956f390>"
      ]
     },
     "metadata": {},
     "output_type": "display_data"
    }
   ],
   "source": [
    "pt.imshow(x[sd,1:].reshape(-1,20).T)\n"
   ]
  },
  {
   "cell_type": "code",
   "execution_count": 8,
   "metadata": {
    "collapsed": true
   },
   "outputs": [],
   "source": [
    "def costfunction(theta,X,y,lamda): #use regularised logistic regression\n",
    "    m,n = X.shape\n",
    "    h=sigmoid(X.dot(theta))\n",
    "    \n",
    "    cost=1/m * (-y.T.dot(np.log(h)) - (1-y).T.dot(np.log(1-h)))\n",
    "    reg=lamda/(2*m) * np.sum(np.square((theta[1:])))\n",
    "    J=cost+reg\n",
    "    \n",
    "    grad= 1/m * ((h-y).T.dot(X)).T + lamda/m * np.r_[[[0]],theta[1:].reshape(-1,1)].T\n",
    "    return J,grad.flatten()"
   ]
  },
  {
   "cell_type": "code",
   "execution_count": 9,
   "metadata": {
    "collapsed": true
   },
   "outputs": [],
   "source": [
    "def sigmoid(z):\n",
    "    g=1/(1+np.exp(-z))\n",
    "    return g"
   ]
  },
  {
   "cell_type": "code",
   "execution_count": 10,
   "metadata": {},
   "outputs": [
    {
     "data": {
      "text/plain": [
       "(2.5348193961097438,\n",
       " array([ 0.14656137, -0.54855841,  0.72472227,  1.39800296]))"
      ]
     },
     "execution_count": 10,
     "metadata": {},
     "output_type": "execute_result"
    }
   ],
   "source": [
    "#test\n",
    "thet=np.array([-2,-1,1,2])\n",
    "xt = np.hstack((np.ones((5, 1)), np.arange(1, 16).reshape(5, 3, order='F') / 10.0))\n",
    "yt = np.array([1, 0, 1, 0, 1])\n",
    "lamt = 3\n",
    "costfunction(thet,xt,yt,lamt)\n",
    "#on your face cost function! this time I got you right !"
   ]
  },
  {
   "cell_type": "code",
   "execution_count": 11,
   "metadata": {
    "collapsed": true
   },
   "outputs": [],
   "source": [
    "#one vs all training\n",
    "import scipy.optimize as opt\n",
    "def one_vs_all(X,y,num_labels,lamda):\n",
    "    m,n=X.shape\n",
    "    all_theta=np.zeros((num_labels, n+1))\n",
    "    initial_theta=np.zeros(n+1)\n",
    "    X=np.hstack((np.ones((m,1)),X))\n",
    "    #the labeling starts from 1, hence i=0 is assigned label=10   \n",
    "    for i in range(0,10):\n",
    "        if i==0:\n",
    "            label=10\n",
    "        else:\n",
    "            label=i\n",
    "        result = opt.minimize(costfunction, initial_theta, args=(X , (y == label).astype(int),lamda), method='TNC',\n",
    "                       jac=True)\n",
    "        #check the success labels to know if the used optimization works well.\n",
    "        print ('one_vs_all(): label =', label, ', success =', result.success)\n",
    "        all_theta[i,:]=result.x\n",
    "            \n",
    "    return all_theta\n",
    "    \n"
   ]
  },
  {
   "cell_type": "code",
   "execution_count": 12,
   "metadata": {},
   "outputs": [
    {
     "name": "stdout",
     "output_type": "stream",
     "text": [
      "one_vs_all(): label = 10 , success = True\n",
      "one_vs_all(): label = 1 , success = True\n",
      "one_vs_all(): label = 2 , success = True\n",
      "one_vs_all(): label = 3 , success = True\n",
      "one_vs_all(): label = 4 , success = True\n",
      "one_vs_all(): label = 5 , success = True\n",
      "one_vs_all(): label = 6 , success = True\n",
      "one_vs_all(): label = 7 , success = True\n",
      "one_vs_all(): label = 8 , success = True\n",
      "one_vs_all(): label = 9 , success = True\n"
     ]
    }
   ],
   "source": [
    "alltheta=one_vs_all(X,y,10,0.1)"
   ]
  },
  {
   "cell_type": "code",
   "execution_count": 13,
   "metadata": {
    "collapsed": true
   },
   "outputs": [],
   "source": [
    "def predict_one_vs_all(all_theta,X):\n",
    "    m,n=X.shape\n",
    "    X=np.hstack((np.ones((m,1)),X))\n",
    "    #return the column index of the largest number in each row; since axis=1\n",
    "    p = np.argmax(sigmoid(X.dot(all_theta.T)), axis=1)\n",
    "    p[p == 0] = 10\n",
    "    return p\n",
    "        "
   ]
  },
  {
   "cell_type": "code",
   "execution_count": 14,
   "metadata": {},
   "outputs": [
    {
     "data": {
      "text/plain": [
       "96.460000000000008"
      ]
     },
     "execution_count": 14,
     "metadata": {},
     "output_type": "execute_result"
    }
   ],
   "source": [
    "#one vs all prediction\n",
    "pred=predict_one_vs_all(alltheta,X)\n",
    "np.mean(pred==y)*100"
   ]
  },
  {
   "cell_type": "code",
   "execution_count": 15,
   "metadata": {
    "collapsed": true
   },
   "outputs": [],
   "source": [
    "#neural network prediction....clearly high!\n",
    "def predict(theta1,theta2,X):\n",
    "    m,n=X.shape \n",
    "    X=np.hstack((np.ones((m,1)),X))\n",
    "    a2=sigmoid(X.dot(theta1.T))\n",
    "    a2=np.hstack((np.ones((m,1)),a2))\n",
    "    htheta=sigmoid(a2.dot(theta2.T))\n",
    "    #we need to get the values 1 column later, since my 1st column is stacked with 1's\n",
    "    return (np.argmax(htheta,axis=1)+1)"
   ]
  },
  {
   "cell_type": "code",
   "execution_count": 16,
   "metadata": {},
   "outputs": [
    {
     "data": {
      "text/plain": [
       "97.519999999999996"
      ]
     },
     "execution_count": 16,
     "metadata": {},
     "output_type": "execute_result"
    }
   ],
   "source": [
    "s=predict(t1,t2,X)\n",
    "np.mean(s==y)*100\n"
   ]
  },
  {
   "cell_type": "code",
   "execution_count": 48,
   "metadata": {},
   "outputs": [
    {
     "name": "stdout",
     "output_type": "stream",
     "text": [
      "Displaying Example Image\n",
      "Neural Network Prediction: [5] (digit [5])\n"
     ]
    },
    {
     "data": {
      "image/png": "[encoded data removed]",
      "text/plain": [
       "<matplotlib.figure.Figure at 0x11b58668>"
      ]
     },
     "metadata": {},
     "output_type": "display_data"
    },
    {
     "name": "stdout",
     "output_type": "stream",
     "text": [
      "Displaying Example Image\n",
      "Neural Network Prediction: [10] (digit [0])\n"
     ]
    },
    {
     "data": {
      "image/png": "[encoded data removed]",
      "text/plain": [
       "<matplotlib.figure.Figure at 0x11aa4b38>"
      ]
     },
     "metadata": {},
     "output_type": "display_data"
    },
    {
     "name": "stdout",
     "output_type": "stream",
     "text": [
      "Displaying Example Image\n",
      "Neural Network Prediction: [2] (digit [2])\n"
     ]
    },
    {
     "data": {
      "image/png": "[encoded data removed]",
      "text/plain": [
       "<matplotlib.figure.Figure at 0x117c5cc0>"
      ]
     },
     "metadata": {},
     "output_type": "display_data"
    },
    {
     "name": "stdout",
     "output_type": "stream",
     "text": [
      "Displaying Example Image\n",
      "Neural Network Prediction: [7] (digit [7])\n"
     ]
    },
    {
     "data": {
      "image/png": "[encoded data removed]",
      "text/plain": [
       "<matplotlib.figure.Figure at 0x11795400>"
      ]
     },
     "metadata": {},
     "output_type": "display_data"
    },
    {
     "name": "stdout",
     "output_type": "stream",
     "text": [
      "Displaying Example Image\n",
      "Neural Network Prediction: [7] (digit [7])\n"
     ]
    },
    {
     "data": {
      "image/png": "[encoded data removed]",
      "text/plain": [
       "<matplotlib.figure.Figure at 0x11dc3160>"
      ]
     },
     "metadata": {},
     "output_type": "display_data"
    },
    {
     "name": "stdout",
     "output_type": "stream",
     "text": [
      "Displaying Example Image\n",
      "Neural Network Prediction: [6] (digit [6])\n"
     ]
    },
    {
     "data": {
      "image/png": "[encoded data removed]",
      "text/plain": [
       "<matplotlib.figure.Figure at 0x11bad668>"
      ]
     },
     "metadata": {},
     "output_type": "display_data"
    },
    {
     "name": "stdout",
     "output_type": "stream",
     "text": [
      "Displaying Example Image\n",
      "Neural Network Prediction: [3] (digit [3])\n"
     ]
    },
    {
     "data": {
      "image/png": "[encoded data removed]",
      "text/plain": [
       "<matplotlib.figure.Figure at 0x955e7f0>"
      ]
     },
     "metadata": {},
     "output_type": "display_data"
    }
   ],
   "source": [
    "#output, change the number in range() to view\n",
    "rp = np.random.permutation(m)\n",
    "for i in range(7):\n",
    "    print ('Displaying Example Image')\n",
    "    pt.imshow(X[rp[i],].reshape(-1, 20).T)\n",
    "    pred = predict(t1, t2, X[rp[i],].reshape(1, n))\n",
    "    print ('Neural Network Prediction: {} (digit {})'.format(pred, pred % 10))\n",
    "    pt.show()\n"
   ]
  },
  {
   "cell_type": "raw",
   "metadata": {},
   "source": []
  },
  {
   "cell_type": "code",
   "execution_count": null,
   "metadata": {
    "collapsed": true
   },
   "outputs": [],
   "source": []
  }
 ],
 "metadata": {
  "kernelspec": {
   "display_name": "Python 3",
   "language": "python",
   "name": "python3"
  },
  "language_info": {
   "codemirror_mode": {
    "name": "ipython",
    "version": 3
   },
   "file_extension": ".py",
   "mimetype": "text/x-python",
   "name": "python",
   "nbconvert_exporter": "python",
   "pygments_lexer": "ipython3",
   "version": "3.6.3"
  }
 },
 "nbformat": 4,
 "nbformat_minor": 2
}
