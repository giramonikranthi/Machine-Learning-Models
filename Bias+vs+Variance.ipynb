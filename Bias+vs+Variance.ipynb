{
 "cells": [
  {
   "cell_type": "code",
   "execution_count": 1,
   "metadata": {
    "collapsed": true
   },
   "outputs": [],
   "source": [
    "import numpy as np\n",
    "import matplotlib.pyplot as pt\n",
    "%matplotlib inline\n",
    "from scipy.io import loadmat\n",
    "import decimal\n",
    "data=loadmat(r'C:\\Users\\saminens\\Desktop\\ML\\ex5data1')\n"
   ]
  },
  {
   "cell_type": "code",
   "execution_count": 2,
   "metadata": {
    "collapsed": true
   },
   "outputs": [],
   "source": [
    "X=data['X']\n",
    "y=data['y']\n",
    "Xval=data['Xval']\n",
    "yval=data['yval']\n",
    "Xtest=data['Xtest']\n",
    "ytest=data['ytest']\n"
   ]
  },
  {
   "cell_type": "code",
   "execution_count": 3,
   "metadata": {},
   "outputs": [
    {
     "data": {
      "text/plain": [
       "Text(0,0.5,'water flowing out of dam')"
      ]
     },
     "execution_count": 3,
     "metadata": {},
     "output_type": "execute_result"
    },
    {
     "data": {
      "image/png": "[encoded data removed]",
      "text/plain": [
       "<matplotlib.figure.Figure at 0x94eb198>"
      ]
     },
     "metadata": {},
     "output_type": "display_data"
    }
   ],
   "source": [
    "m,n=X.shape\n",
    "pt.scatter(X,y,marker='x')\n",
    "pt.xlabel('change in water level')\n",
    "pt.ylabel('water flowing out of dam')\n",
    "\n"
   ]
  },
  {
   "cell_type": "code",
   "execution_count": 4,
   "metadata": {
    "collapsed": true
   },
   "outputs": [],
   "source": [
    "def reglinearcostfunc(theta,X,y,lamda):\n",
    "    m=X.shape[0]\n",
    "    #print(X.shape,theta.shape)\n",
    "    theta=theta.reshape(-1,1)\n",
    "    h = X.dot(theta)\n",
    "    J = 1/(2*m) * np.sum(np.square(h-y))+ (lamda/(2*m)) * np.sum(np.square(theta[1:]))\n",
    "    a=np.eye(len(theta))\n",
    "    a[0,0]=0\n",
    "    grad= 1/m * (X.T.dot(h-y)) + lamda/m * (a.dot(theta))\n",
    "    return J,grad"
   ]
  },
  {
   "cell_type": "code",
   "execution_count": 5,
   "metadata": {},
   "outputs": [
    {
     "data": {
      "text/plain": [
       "(303.99319222026429, array([[ -15.30301567],\n",
       "        [ 598.25074417]]))"
      ]
     },
     "execution_count": 5,
     "metadata": {},
     "output_type": "execute_result"
    }
   ],
   "source": [
    "t=np.hstack((np.ones((m,1)),X))\n",
    "theta = np.array([1, 1])\n",
    "j=reglinearcostfunc(theta,t,y,1)\n",
    "j"
   ]
  },
  {
   "cell_type": "code",
   "execution_count": 6,
   "metadata": {
    "collapsed": true
   },
   "outputs": [],
   "source": [
    "import  scipy.optimize  as opt\n",
    "def trainlinearreg(X,y,lamda):\n",
    "    n=X.shape[1]\n",
    "    itheta=(np.zeros(n)).reshape(-1,1)\n",
    "    result=opt.minimize(reglinearcostfunc,itheta,args=(X,y,lamda),method='TNC',jac=True,options={'maxiter':400})\n",
    "    return result\n"
   ]
  },
  {
   "cell_type": "code",
   "execution_count": 7,
   "metadata": {
    "scrolled": true
   },
   "outputs": [
    {
     "data": {
      "text/plain": [
       "     fun: 22.373906495108915\n",
       "     jac: array([[  3.31927226e-10],\n",
       "       [ -4.60928830e-08]])\n",
       " message: 'Local minimum reached (|pg| ~= 0)'\n",
       "    nfev: 9\n",
       "     nit: 4\n",
       "  status: 0\n",
       " success: True\n",
       "       x: array([ 13.08790351,   0.36777923])"
      ]
     },
     "execution_count": 7,
     "metadata": {},
     "output_type": "execute_result"
    },
    {
     "data": {
      "image/png": "[encoded data removed]",
      "text/plain": [
       "<matplotlib.figure.Figure at 0xb13a0f0>"
      ]
     },
     "metadata": {},
     "output_type": "display_data"
    }
   ],
   "source": [
    "#trained line, linear regression.\n",
    "result=trainlinearreg(t,y,0)\n",
    "pt.plot(X,t.dot(result.x))\n",
    "pt.scatter(X,y,marker='x',c='r')\n",
    "result"
   ]
  },
  {
   "cell_type": "code",
   "execution_count": 31,
   "metadata": {
    "collapsed": true
   },
   "outputs": [],
   "source": [
    "#learning curve for linear regression\n",
    "def learningcurve(X,y,Xval,yval,lamda):\n",
    "    m,n=X.shape\n",
    "    error_train=np.zeros((m,1))\n",
    "    error_val=np.zeros((m,1))\n",
    "    for i in range(m):\n",
    "        a=X[:i+1]\n",
    "        b=y[:i+1]\n",
    "        theta=trainlinearreg(a,b,lamda)\n",
    "        error_train[i],_=reglinearcostfunc(theta.x,a,b,0)\n",
    "        error_val[i],_=reglinearcostfunc(theta.x,Xval,yval,0)\n",
    "    return error_train, error_val"
   ]
  },
  {
   "cell_type": "code",
   "execution_count": 32,
   "metadata": {},
   "outputs": [
    {
     "data": {
      "text/plain": [
       "[<matplotlib.lines.Line2D at 0xc05bb70>]"
      ]
     },
     "execution_count": 32,
     "metadata": {},
     "output_type": "execute_result"
    },
    {
     "data": {
      "image/png": "[encoded data removed]",
      "text/plain": [
       "<matplotlib.figure.Figure at 0xc05b240>"
      ]
     },
     "metadata": {},
     "output_type": "display_data"
    }
   ],
   "source": [
    "m_v=Xval.shape[0]\n",
    "m_t=Xtest.shape[0]\n",
    "j1,j2=learningcurve(t,y,np.hstack((np.ones((m_v,1)),Xval)),yval,0)\n",
    "pt.plot(range(0,m),j1)\n",
    "pt.plot(range(0,m),j2)"
   ]
  },
  {
   "cell_type": "code",
   "execution_count": 10,
   "metadata": {
    "collapsed": true
   },
   "outputs": [],
   "source": [
    "def featurenormalize(X):\n",
    "    mu=np.mean(X,axis=0)\n",
    "    sigma=np.std(X,axis=0)\n",
    "    X_norm=(X-mu)/sigma\n",
    "    return X_norm,mu,sigma"
   ]
  },
  {
   "cell_type": "code",
   "execution_count": 11,
   "metadata": {
    "collapsed": true
   },
   "outputs": [],
   "source": [
    "def polyfeatures(X,p):\n",
    "    X_poly=np.zeros((len(X),p))\n",
    "    for i in range (p):\n",
    "        X_poly[:,i]=np.power(X,i+1).ravel()\n",
    "    return X_poly"
   ]
  },
  {
   "cell_type": "code",
   "execution_count": 44,
   "metadata": {},
   "outputs": [],
   "source": [
    "#feature mapping for polynomial regression\n",
    "X_poly=polyfeatures(X,7)\n",
    "X_poly,mu,sigma=featurenormalize(X_poly)\n",
    "X_poly=np.hstack((np.ones((m,1)),X_poly))\n",
    "\n",
    "X_tpoly=polyfeatures(Xtest,7)\n",
    "X_tpoly,t_mu,t_sigma=featurenormalize(X_tpoly)\n",
    "X_tpoly=np.hstack((np.ones((m_t,1)),X_tpoly))\n",
    "\n",
    "X_vpoly=polyfeatures(Xval,7)\n",
    "X_vpoly,v_mu,v_sigma=featurenormalize(X_vpoly)\n",
    "X_vpoly=np.hstack((np.ones((m_v,1)),X_vpoly))\n"
   ]
  },
  {
   "cell_type": "code",
   "execution_count": 45,
   "metadata": {},
   "outputs": [
    {
     "data": {
      "text/plain": [
       "<matplotlib.collections.PathCollection at 0xe534e80>"
      ]
     },
     "execution_count": 45,
     "metadata": {},
     "output_type": "execute_result"
    },
    {
     "data": {
      "image/png": "[encoded data removed]",
      "text/plain": [
       "<matplotlib.figure.Figure at 0xe45e550>"
      ]
     },
     "metadata": {},
     "output_type": "display_data"
    }
   ],
   "source": [
    "h=np.arange(-55,60,0.05)\n",
    "theta=trainlinearreg(X_poly,y,0)\n",
    "x=polyfeatures(h,7)\n",
    "x,m_u,sig_ma=featurenormalize(x)\n",
    "x=np.hstack((np.ones((x.shape[0],1)),x))\n",
    "pt.plot(h,x.dot(theta.x))\n",
    "pt.scatter(X,y,marker='x',c='r')"
   ]
  },
  {
   "cell_type": "code",
   "execution_count": 46,
   "metadata": {},
   "outputs": [
    {
     "data": {
      "text/plain": [
       "[<matplotlib.lines.Line2D at 0xc3ca518>]"
      ]
     },
     "execution_count": 46,
     "metadata": {},
     "output_type": "execute_result"
    },
    {
     "data": {
      "image/png": "[encoded data removed]",
      "text/plain": [
       "<matplotlib.figure.Figure at 0xe4e05f8>"
      ]
     },
     "metadata": {},
     "output_type": "display_data"
    }
   ],
   "source": [
    "mp_v=X_poly.shape[0]\n",
    "mp_t=X_vpoly.shape[0]\n",
    "jp1,jp2=learningcurve(X_poly,y,X_vpoly,yval,0)\n",
    "pt.plot(range(0,m),jp1)\n",
    "pt.plot(range(0,m),jp2)\n",
    "#high variance!!"
   ]
  },
  {
   "cell_type": "code",
   "execution_count": 47,
   "metadata": {
    "collapsed": true
   },
   "outputs": [],
   "source": [
    "#lambda validation\n",
    "def validationcurve(X,y,Xval,yval):\n",
    "    lambdas=np.linspace(0,5,20)\n",
    "    error_train=np.zeros((lambdas.shape[0],1))\n",
    "    error_val=np.zeros((lambdas.shape[0],1))\n",
    "    m=X.shape[0]\n",
    "    m_v=Xval.shape[0]\n",
    "    for i in range(lambdas.shape[0]):\n",
    "        l=lambdas[i]\n",
    "        theta=trainlinearreg(X,y,l)\n",
    "        error_train[i],_=reglinearcostfunc(theta.x,X,y,0)\n",
    "        error_val[i],_=reglinearcostfunc(theta.x,Xval,yval,0)\n",
    "    return lambdas,error_train,error_val\n",
    "        \n",
    "        "
   ]
  },
  {
   "cell_type": "code",
   "execution_count": 48,
   "metadata": {},
   "outputs": [
    {
     "data": {
      "text/plain": [
       "[<matplotlib.lines.Line2D at 0xe54b898>]"
      ]
     },
     "execution_count": 48,
     "metadata": {},
     "output_type": "execute_result"
    },
    {
     "data": {
      "image/png": "[encoded data removed]",
      "text/plain": [
       "<matplotlib.figure.Figure at 0xe5b6320>"
      ]
     },
     "metadata": {},
     "output_type": "display_data"
    }
   ],
   "source": [
    "lambdas, error_train, error_val = validationcurve(X_poly, y, X_vpoly, yval)\n",
    "pt.plot(lambdas,error_train)\n",
    "pt.plot(lambdas,error_val)\n",
    "#best lambda is around 3.5"
   ]
  },
  {
   "cell_type": "code",
   "execution_count": null,
   "metadata": {
    "collapsed": true
   },
   "outputs": [],
   "source": []
  }
 ],
 "metadata": {
  "kernelspec": {
   "display_name": "Python 3",
   "language": "python",
   "name": "python3"
  },
  "language_info": {
   "codemirror_mode": {
    "name": "ipython",
    "version": 3
   },
   "file_extension": ".py",
   "mimetype": "text/x-python",
   "name": "python",
   "nbconvert_exporter": "python",
   "pygments_lexer": "ipython3",
   "version": "3.6.3"
  }
 },
 "nbformat": 4,
 "nbformat_minor": 2
}
