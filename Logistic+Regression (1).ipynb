{
 "cells": [
  {
   "cell_type": "code",
   "execution_count": 276,
   "metadata": {
    "collapsed": true
   },
   "outputs": [],
   "source": [
    "import csv\n",
    "import sklearn\n",
    "import pandas as pd\n",
    "from sklearn.linear_model import LogisticRegression\n",
    "import matplotlib.pyplot as pt\n",
    "import numpy as np\n",
    "import scipy"
   ]
  },
  {
   "cell_type": "code",
   "execution_count": 277,
   "metadata": {
    "collapsed": true
   },
   "outputs": [],
   "source": [
    "#load data\n",
    "data = np.loadtxt(r'C:\\Users\\saminens\\Desktop\\ML\\ex2data1.txt', delimiter=\",\")\n",
    "x=data[:,0:2]\n",
    "y=data[:,2:3]\n"
   ]
  },
  {
   "cell_type": "code",
   "execution_count": 278,
   "metadata": {},
   "outputs": [
    {
     "data": {
      "text/plain": [
       "<matplotlib.legend.Legend at 0xce10b00>"
      ]
     },
     "execution_count": 278,
     "metadata": {},
     "output_type": "execute_result"
    }
   ],
   "source": [
    "#assign positive and negative values\n",
    "pos=np.where(y==0)[0]\n",
    "neg=np.where(y==1)[0]\n",
    "pt.scatter(x[pos,0],x[pos,1],marker='^')\n",
    "pt.scatter(x[neg,0],x[neg,1],marker='o')\n",
    "pt.legend(['Not Admitted','Admitted'],fancybox=True)\n"
   ]
  },
  {
   "cell_type": "code",
   "execution_count": 279,
   "metadata": {},
   "outputs": [],
   "source": [
    "def sigmoid(z):\n",
    "    g=1/(1 + np.exp(-1 * z))\n",
    "    return g"
   ]
  },
  {
   "cell_type": "code",
   "execution_count": 280,
   "metadata": {},
   "outputs": [],
   "source": [
    "def costfunction(theta,x,y):\n",
    "    m=len(y)\n",
    "    sigmo=sigmoid((x.dot(theta)))\n",
    "    J=(((-y).T.dot(np.log(sigmo)))-((1-y.T).dot(np.log(1-sigmo))))/m\n",
    " #grad returns an array, we need to define it in a function!!   \n",
    "    grad=((sigmo-y).T.dot(x)).T/m\n",
    "    return J[0]"
   ]
  },
  {
   "cell_type": "code",
   "execution_count": 281,
   "metadata": {},
   "outputs": [],
   "source": [
    "def gradient(theta,x,y):\n",
    "    m=len(y)\n",
    "    k=sigmoid((x.dot(theta.reshape(-1,1))))\n",
    "    grad=((k-y).T.dot(x)).T/m\n",
    "  #we need a column matrix  \n",
    "    return (np.hstack(grad))\n",
    "        \n",
    "    "
   ]
  },
  {
   "cell_type": "code",
   "execution_count": 282,
   "metadata": {},
   "outputs": [],
   "source": [
    "[m,n]=np.shape(x)\n",
    "o=np.ones((m,1))\n",
    "x=np.hstack((o,x))\n",
    "itheta=np.zeros((x.shape[1]))\n",
    "cost=costfunction(itheta,x,y)\n",
    "grad=gradient(itheta,x,y)\n"
   ]
  },
  {
   "cell_type": "code",
   "execution_count": 283,
   "metadata": {},
   "outputs": [
    {
     "name": "stdout",
     "output_type": "stream",
     "text": [
      "Optimization terminated successfully.\n",
      "         Current function value: 0.203498\n",
      "         Iterations: 23\n",
      "         Function evaluations: 31\n",
      "         Gradient evaluations: 31\n"
     ]
    },
    {
     "name": "stderr",
     "output_type": "stream",
     "text": [
      "C:\\Users\\saminens\\AppData\\Local\\Continuum\\anaconda3\\lib\\site-packages\\ipykernel_launcher.py:4: RuntimeWarning: divide by zero encountered in log\n",
      "  after removing the cwd from sys.path.\n"
     ]
    },
    {
     "data": {
      "text/plain": [
       "array([-25.16133284,   0.2062317 ,   0.2014716 ])"
      ]
     },
     "execution_count": 283,
     "metadata": {},
     "output_type": "execute_result"
    }
   ],
   "source": [
    "optim=scipy.optimize.fmin_bfgs(costfunction,itheta,fprime=gradient,args=(x,y),maxiter=500)\n",
    "optim"
   ]
  },
  {
   "cell_type": "code",
   "execution_count": 284,
   "metadata": {},
   "outputs": [
    {
     "data": {
      "image/png": "[encoded data removed]",
      "text/plain": [
       "<matplotlib.figure.Figure at 0xce2fa58>"
      ]
     },
     "metadata": {},
     "output_type": "display_data"
    }
   ],
   "source": [
    "minx1,maxx1=[min(x[:,1]-1),max(x[:,1])+1]\n",
    "minx2,maxx2=[min(x[:,2]-1),max(x[:,2])+1]\n",
    "#Create a 2-D mesh to plot points and join the line after getting the 2 co-ordinates\n",
    "plot_x,plot_y=np.meshgrid(np.linspace(minx1,maxx1),np.linspace(minx2,maxx2))\n",
    "q=sigmoid(np.c_[np.ones((plot_x.ravel().shape[0],1)),plot_x.ravel(),plot_y.ravel()].dot(optim))\n",
    "q=q.reshape(plot_x.shape)\n",
    "pt.contour(plot_x,plot_y,q,[0.5])\n",
    "pt.show()"
   ]
  },
  {
   "cell_type": "code",
   "execution_count": 285,
   "metadata": {},
   "outputs": [],
   "source": [
    "def predict(theta,x,threshold=0.5):\n",
    "    s=sigmoid(x.dot(theta.T)) >= threshold\n",
    "    return s\n"
   ]
  },
  {
   "cell_type": "code",
   "execution_count": 300,
   "metadata": {},
   "outputs": [
    {
     "name": "stdout",
     "output_type": "stream",
     "text": [
      "% Training accuracy is 89.0%\n"
     ]
    }
   ],
   "source": [
    "s=(sum(predict(optim,x)==y.ravel())/s.size)\n",
    "print('% Training accuracy is','{}%'.format(s))"
   ]
  },
  {
   "cell_type": "code",
   "execution_count": null,
   "metadata": {
    "collapsed": true
   },
   "outputs": [],
   "source": []
  }
 ],
 "metadata": {
  "kernelspec": {
   "display_name": "Python 3",
   "language": "python",
   "name": "python3"
  },
  "language_info": {
   "codemirror_mode": {
    "name": "ipython",
    "version": 3
   },
   "file_extension": ".py",
   "mimetype": "text/x-python",
   "name": "python",
   "nbconvert_exporter": "python",
   "pygments_lexer": "ipython3",
   "version": "3.6.3"
  }
 },
 "nbformat": 4,
 "nbformat_minor": 2
}
