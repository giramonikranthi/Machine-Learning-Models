{
 "cells": [
  {
   "cell_type": "code",
   "execution_count": 1,
   "metadata": {},
   "outputs": [
    {
     "data": {
      "text/plain": [
       "{'X': array([[ 0.,  0.,  0., ...,  0.,  0.,  0.],\n",
       "        [ 0.,  0.,  0., ...,  0.,  0.,  0.],\n",
       "        [ 0.,  0.,  0., ...,  0.,  0.,  0.],\n",
       "        ..., \n",
       "        [ 0.,  0.,  0., ...,  0.,  0.,  0.],\n",
       "        [ 0.,  0.,  0., ...,  0.,  0.,  0.],\n",
       "        [ 0.,  0.,  0., ...,  0.,  0.,  0.]]),\n",
       " '__globals__': [],\n",
       " '__header__': b'MATLAB 5.0 MAT-file, Platform: GLNXA64, Created on: Sun Oct 16 13:09:09 2011',\n",
       " '__version__': '1.0',\n",
       " 'y': array([[10],\n",
       "        [10],\n",
       "        [10],\n",
       "        ..., \n",
       "        [ 9],\n",
       "        [ 9],\n",
       "        [ 9]], dtype=uint8)}"
      ]
     },
     "execution_count": 1,
     "metadata": {},
     "output_type": "execute_result"
    }
   ],
   "source": [
    "import numpy as np\n",
    "import matplotlib.pyplot as pt\n",
    "%matplotlib inline\n",
    "from scipy.io import loadmat\n",
    "import decimal\n",
    "data=loadmat(r'C:\\Users\\saminens\\Desktop\\ML\\ex4data1')\n",
    "data"
   ]
  },
  {
   "cell_type": "code",
   "execution_count": 2,
   "metadata": {},
   "outputs": [
    {
     "data": {
      "text/plain": [
       "dict_keys(['__header__', '__version__', '__globals__', 'Theta1', 'Theta2'])"
      ]
     },
     "execution_count": 2,
     "metadata": {},
     "output_type": "execute_result"
    }
   ],
   "source": [
    "weights=loadmat(r'C:\\Users\\saminens\\Desktop\\ML\\ex3weights.mat')\n",
    "weights.keys()\n"
   ]
  },
  {
   "cell_type": "code",
   "execution_count": 3,
   "metadata": {
    "collapsed": true
   },
   "outputs": [],
   "source": [
    "X=data['X']\n",
    "y=data['y'].ravel()\n",
    "m,n=X.shape\n",
    "t1,t2=weights['Theta1'],weights['Theta2']\n",
    "x=np.hstack((np.ones((m,1)),X))"
   ]
  },
  {
   "cell_type": "code",
   "execution_count": 4,
   "metadata": {},
   "outputs": [
    {
     "data": {
      "text/plain": [
       "<matplotlib.image.AxesImage at 0x9aaac50>"
      ]
     },
     "execution_count": 4,
     "metadata": {},
     "output_type": "execute_result"
    },
    {
     "data": {
      "image/png": "[encoded data removed]",
      "text/plain": [
       "<matplotlib.figure.Figure at 0x9590748>"
      ]
     },
     "metadata": {},
     "output_type": "display_data"
    }
   ],
   "source": [
    "sd=np.random.choice(x.shape[0],10)\n",
    "pt.imshow(x[sd,1:].reshape(-1,20).T)"
   ]
  },
  {
   "cell_type": "code",
   "execution_count": 5,
   "metadata": {
    "collapsed": true
   },
   "outputs": [],
   "source": [
    "def sigmoid(z):\n",
    "    g=1 / (1+np.exp(-z))\n",
    "    return g"
   ]
  },
  {
   "cell_type": "code",
   "execution_count": 6,
   "metadata": {
    "collapsed": true
   },
   "outputs": [],
   "source": [
    "def sigmoidgrad(z):\n",
    "    f=z*(1-z)\n",
    "    return f"
   ]
  },
  {
   "cell_type": "code",
   "execution_count": 7,
   "metadata": {
    "collapsed": true
   },
   "outputs": [],
   "source": [
    "nn_params= np.hstack((t1.flatten(),t2.flatten()))\n",
    "num_labels=10\n",
    "input_layer_size=400 \n",
    "hidden_layer_size=25\n",
    "def nncostfunction(nn_params,input_layer_size,hidden_layer_size,num_labels,X,y,lamda):\n",
    "    Theta1=np.reshape(nn_params[0:(hidden_layer_size*((input_layer_size)+1)),],(hidden_layer_size, (input_layer_size + 1)))\n",
    "    Theta2=np.reshape(nn_params[(hidden_layer_size*(input_layer_size+1)):,],(num_labels, (hidden_layer_size + 1)))\n",
    "    m,n=X.shape\n",
    "    X=np.hstack((np.ones((m,1)),X)) #5000x401\n",
    "    a1=sigmoid(Theta1.dot(X.T)) # 25x5000\n",
    "    a1=np.hstack((np.ones((m,1)),a1.T)) # 5000x26\n",
    "    a2=sigmoid(Theta2.dot(a1.T)) # 10x5000\n",
    "    k=np.zeros((num_labels,m)) # 10x5000\n",
    "    for i in range(m):\n",
    "        k[y[i]-1,i]=1 # check later\n",
    "    \n",
    "    J=(1/m)* np.trace(-k.dot(np.log(a2).T) - (1-k).dot(np.log(1-a2).T)) #10x10\n",
    "    itheta1=Theta1[:,1:] #25x400\n",
    "    itheta2=Theta2[:,1:] #10x25\n",
    "    reg= (lamda/(2*m)) * (np.sum(np.sum(np.square(itheta1)))+ np.sum(np.sum(np.square(itheta2))))\n",
    "    J=J+reg\n",
    "    # backpropagation\n",
    "    Theta1_grad=np.zeros((Theta1.shape))\n",
    "    Theta2_grad=np.zeros((Theta2.shape))\n",
    "    for s in range(m):\n",
    "        k[y[s]-1,s]=1\n",
    "    \n",
    "     \n",
    "    delta3=a2-k #10x5000\n",
    "    delta2=((Theta2.T).dot(delta3))*sigmoidgrad(a1).T #26x5000\n",
    "    delta2=delta2[1:,:]\n",
    "    Theta2_grad=Theta2_grad+ (delta3.dot(a1))\n",
    "    Theta1_grad=Theta1_grad+ (delta2.dot(X))\n",
    "    \n",
    "    Theta1_grad = Theta1_grad / m\n",
    "    Theta1_grad[:, 1:] = Theta1_grad[:, 1:] + lamda / m * Theta1[:, 1:]\n",
    "    Theta2_grad = Theta2_grad / m\n",
    "    Theta2_grad[:, 1:] = Theta2_grad[:, 1:] + lamda / m * Theta2[:, 1:]\n",
    "    \n",
    "    grad= np.hstack((Theta1_grad.ravel(),Theta2_grad.ravel()))\n",
    "    \n",
    "    return J,grad\n",
    "    \n",
    "    \n",
    "    \n"
   ]
  },
  {
   "cell_type": "code",
   "execution_count": 8,
   "metadata": {},
   "outputs": [
    {
     "data": {
      "text/plain": [
       "(0.38376985909092359,\n",
       " array([  6.18712766e-05,  -2.11248326e-12,   4.38829369e-13, ...,\n",
       "          4.70513145e-05,  -5.01718610e-04,   5.07825789e-04]))"
      ]
     },
     "execution_count": 8,
     "metadata": {},
     "output_type": "execute_result"
    }
   ],
   "source": [
    "nncostfunction(nn_params,input_layer_size,hidden_layer_size,num_labels,X,y,1)\n"
   ]
  },
  {
   "cell_type": "code",
   "execution_count": 9,
   "metadata": {
    "collapsed": true
   },
   "outputs": [],
   "source": [
    "def randinitializeweights():\n",
    "    eps=0.12\n",
    "    t1=np.rand(hidden_layer_size,input_layer_size+1)*2*eps - eps\n",
    "    t2=np.rand(num_labels,hidden_layer_size+1)*2*eps - eps\n",
    "    theta=np.append(t1.flatten(),t2.flatten())\n",
    "    return theta\n",
    "    "
   ]
  },
  {
   "cell_type": "code",
   "execution_count": 10,
   "metadata": {},
   "outputs": [],
   "source": [
    "#check backprop\n",
    "def debugInitializeWeights(fan_out, fan_in):\n",
    "    W = np.zeros((fan_out, 1 + fan_in))\n",
    "    W = np.reshape(np.sin(range(W.size)), W.shape) / 10\n",
    "    return W\n",
    "    "
   ]
  },
  {
   "cell_type": "code",
   "execution_count": 11,
   "metadata": {},
   "outputs": [],
   "source": [
    "def computeNumericalGradient(J, theta):\n",
    "    numgrad = np.zeros(theta.shape)\n",
    "    perturb = np.zeros(theta.shape)\n",
    "    e = 1e-4\n",
    "    for p in range(theta.size):\n",
    "        perturb.reshape(perturb.size)[p] = e\n",
    "        loss1,_ = J(theta - perturb)\n",
    "        loss2,_ = J(theta + perturb)\n",
    "        numgrad[p] = (loss2 - loss1) / (2*e);\n",
    "        perturb[p] = 0\n",
    "    return numgrad\n",
    "    "
   ]
  },
  {
   "cell_type": "code",
   "execution_count": 12,
   "metadata": {},
   "outputs": [],
   "source": [
    "def checkNNGradients(lamda):\n",
    "    input_layer_size = 3\n",
    "    hidden_layer_size = 5\n",
    "    num_labels = 3\n",
    "    m = 5\n",
    "    Theta1 = debugInitializeWeights(hidden_layer_size, input_layer_size)\n",
    "    Theta2 = debugInitializeWeights(num_labels, hidden_layer_size)\n",
    "    X  = debugInitializeWeights(m, input_layer_size - 1)\n",
    "    y  = 1 + np.mod(range(m), num_labels).T\n",
    "    nn_params=np.concatenate((Theta1.reshape(Theta1.size),Theta2.reshape(Theta2.size)))\n",
    "    def cf(p):\n",
    "        return nncostfunction(p,input_layer_size,hidden_layer_size,num_labels,X,y,lamda)\n",
    "    _,grad=cf(nn_params)\n",
    "    numgrad=computeNumericalGradient(cf, nn_params)\n",
    "    diff = decimal.Decimal(np.linalg.norm(numgrad-grad))/decimal.Decimal(np.linalg.norm(numgrad+grad))\n",
    "    return diff"
   ]
  },
  {
   "cell_type": "code",
   "execution_count": 13,
   "metadata": {},
   "outputs": [
    {
     "data": {
      "text/plain": [
       "Decimal('2.108116162437662173942475093E-11')"
      ]
     },
     "execution_count": 13,
     "metadata": {},
     "output_type": "execute_result"
    }
   ],
   "source": [
    "checkNNGradients(0)    #diff is less than 1e-4....success!!"
   ]
  },
  {
   "cell_type": "code",
   "execution_count": 14,
   "metadata": {},
   "outputs": [
    {
     "data": {
      "text/plain": [
       "Decimal('1.915354600776808580860823158E-11')"
      ]
     },
     "execution_count": 14,
     "metadata": {},
     "output_type": "execute_result"
    }
   ],
   "source": [
    "checkNNGradients(3)"
   ]
  },
  {
   "cell_type": "code",
   "execution_count": 15,
   "metadata": {},
   "outputs": [
    {
     "data": {
      "text/plain": [
       "(0.5760512469501331,\n",
       " array([  6.18712766e-05,  -6.33744979e-12,   1.31648811e-12, ...,\n",
       "         -5.20670005e-05,   1.03178624e-05,  -2.31823790e-05]))"
      ]
     },
     "execution_count": 15,
     "metadata": {},
     "output_type": "execute_result"
    }
   ],
   "source": [
    "debug_J  = nncostfunction(nn_params, input_layer_size, hidden_layer_size, num_labels, X, y, 3)\n",
    "debug_J #for lambda = 3, this value should be about 0.576051"
   ]
  },
  {
   "cell_type": "code",
   "execution_count": 16,
   "metadata": {
    "collapsed": true
   },
   "outputs": [],
   "source": [
    "#Training NN\n",
    "import scipy.optimize as opt\n",
    "result=opt.minimize(nncostfunction,nn_params,args=(input_layer_size, hidden_layer_size, num_labels, X, y, 1),options={'maxiter':20},method='L-BFGs-B',jac=True) #lambda=1\n"
   ]
  },
  {
   "cell_type": "code",
   "execution_count": 17,
   "metadata": {},
   "outputs": [
    {
     "data": {
      "text/plain": [
       "      fun: 0.32552985020655612\n",
       " hess_inv: <10285x10285 LbfgsInvHessProduct with dtype=float64>\n",
       "      jac: array([  1.61739595e-04,  -1.49187391e-12,   3.09909242e-13, ...,\n",
       "         8.29350388e-06,  -1.06045504e-04,  -7.33827986e-05])\n",
       "  message: b'STOP: TOTAL NO. of ITERATIONS EXCEEDS LIMIT'\n",
       "     nfev: 26\n",
       "      nit: 21\n",
       "   status: 1\n",
       "  success: False\n",
       "        x: array([ -1.39895788e-02,  -7.45936956e-09,   1.54954621e-09, ...,\n",
       "        -3.12955963e-01,   1.77960042e+00,  -1.78175106e+00])"
      ]
     },
     "execution_count": 17,
     "metadata": {},
     "output_type": "execute_result"
    }
   ],
   "source": [
    "result"
   ]
  },
  {
   "cell_type": "code",
   "execution_count": 18,
   "metadata": {},
   "outputs": [],
   "source": [
    "nn_params=result[\"x\"]\n",
    "Theta1=np.reshape(nn_params[0:(hidden_layer_size*((input_layer_size)+1)),],(hidden_layer_size, (input_layer_size + 1)))\n",
    "Theta2=np.reshape(nn_params[(hidden_layer_size*(input_layer_size+1)):,],(num_labels, (hidden_layer_size + 1)))"
   ]
  },
  {
   "cell_type": "code",
   "execution_count": 19,
   "metadata": {},
   "outputs": [
    {
     "data": {
      "text/plain": [
       "<matplotlib.image.AxesImage at 0x9badbe0>"
      ]
     },
     "execution_count": 19,
     "metadata": {},
     "output_type": "execute_result"
    },
    {
     "data": {
      "image/png": "[encoded data removed]",
      "text/plain": [
       "<matplotlib.figure.Figure at 0x9b5fb00>"
      ]
     },
     "metadata": {},
     "output_type": "display_data"
    }
   ],
   "source": [
    "pt.imshow(Theta1[:,1:])  #really beautiful image -_-"
   ]
  },
  {
   "cell_type": "code",
   "execution_count": 20,
   "metadata": {
    "collapsed": true
   },
   "outputs": [],
   "source": [
    "#for prediction\n",
    "def predict(Theta1, Theta2, X):\n",
    "    m,n = X.shape\n",
    "    num_labels = Theta2.shape[0]\n",
    "    p = np.zeros((m, 1))\n",
    "    h1=sigmoid(np.hstack((np.ones((m,1)),X)).dot(Theta1.T))\n",
    "    h2=sigmoid(np.hstack((np.ones((m,1)),h1)).dot(Theta2.T))\n",
    "    p=np.argmax(h2,axis=1)\n",
    "    p=p+1\n",
    "    return p"
   ]
  },
  {
   "cell_type": "code",
   "execution_count": 21,
   "metadata": {},
   "outputs": [
    {
     "data": {
      "text/plain": [
       "98.920000000000002"
      ]
     },
     "execution_count": 21,
     "metadata": {},
     "output_type": "execute_result"
    }
   ],
   "source": [
    "s=predict(Theta1,Theta2,X)\n",
    "np.mean(s==y)*100"
   ]
  },
  {
   "cell_type": "code",
   "execution_count": 22,
   "metadata": {
    "collapsed": true
   },
   "outputs": [],
   "source": [
    "#thats a good prediction!"
   ]
  }
 ],
 "metadata": {
  "kernelspec": {
   "display_name": "Python 3",
   "language": "python",
   "name": "python3"
  },
  "language_info": {
   "codemirror_mode": {
    "name": "ipython",
    "version": 3
   },
   "file_extension": ".py",
   "mimetype": "text/x-python",
   "name": "python",
   "nbconvert_exporter": "python",
   "pygments_lexer": "ipython3",
   "version": "3.6.3"
  }
 },
 "nbformat": 4,
 "nbformat_minor": 2
}
